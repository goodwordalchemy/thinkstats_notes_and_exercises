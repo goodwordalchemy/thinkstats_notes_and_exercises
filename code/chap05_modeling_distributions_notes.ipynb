{
 "cells": [
  {
   "cell_type": "markdown",
   "metadata": {},
   "source": [
    "**empirical distributions** - based on empirical observations.  Necessarily finite.\n",
    "\n",
    "**analytic distribution** - CDF is a mathematical function.\n",
    "\n",
    "**model** - simplification that leaves out unneeded details"
   ]
  },
  {
   "cell_type": "code",
   "execution_count": 10,
   "metadata": {
    "collapsed": true
   },
   "outputs": [],
   "source": [
    "%matplotlib inline\n",
    "import math\n",
    "\n",
    "import numpy as np\n",
    "import pandas\n",
    "\n",
    "import nsfg\n",
    "import thinkplot\n",
    "import thinkstats2\n",
    "\n",
    "import analytic"
   ]
  },
  {
   "cell_type": "markdown",
   "metadata": {},
   "source": [
    "###Exponential Distribution:\n",
    "\n",
    "The CDF for the exponential distribution is \n",
    "$$CDF(x) = 1 - e^{-\\lambda x}$$\n",
    "\n",
    "where $\\lambda$ determines the shape of the distribution.\n",
    "\n",
    "*  often used to measure **interarrival times**.  If events are equally likely to occur at any time, the distribution looks like an exponential distribution.\n",
    "\n"
   ]
  },
  {
   "cell_type": "code",
   "execution_count": 11,
   "metadata": {
    "collapsed": false
   },
   "outputs": [
    {
     "data": {
      "image/png": "[encoded data removed]",
      "text/plain": [
       "<matplotlib.figure.Figure at 0x1080e0050>"
      ]
     },
     "metadata": {},
     "output_type": "display_data"
    },
    {
     "data": {
      "text/plain": [
       "<matplotlib.figure.Figure at 0x10816b8d0>"
      ]
     },
     "metadata": {},
     "output_type": "display_data"
    }
   ],
   "source": [
    "df = analytic.ReadBabyBoom()\n",
    "diffs = df.minutes.diff()\n",
    "cdf = thinkstats2.Cdf(diffs, label='actual')\n",
    "\n",
    "thinkplot.Cdf(cdf)\n",
    "thinkplot.Show(xlabel='minutes', ylabel='CDF')\n"
   ]
  },
  {
   "cell_type": "markdown",
   "metadata": {},
   "source": [
    "###how can we tell if it's exponential?\n",
    "\n",
    "plot the **complimentary CDF**, which is 1 - CDF(x) on a log(y) scale.  If you plot a CCDF of a dataset that you think is exponential, you expect to see \n",
    "  \n",
    "  $$y \\approx e^{-\\lambda x} $$\n",
    "  \n",
    "taking the log of both sides:\n",
    "   \n",
    "   $$\\log y \\approx -\\lambda x$$\n",
    "   \n",
    "so on a log-y scalse, the CCDF is a straight line with slope $-\\lambda$.\n"
   ]
  },
  {
   "cell_type": "code",
   "execution_count": 12,
   "metadata": {
    "collapsed": false
   },
   "outputs": [
    {
     "data": {
      "image/png": "[encoded data removed]",
      "text/plain": [
       "<matplotlib.figure.Figure at 0x10b95f4d0>"
      ]
     },
     "metadata": {},
     "output_type": "display_data"
    },
    {
     "data": {
      "text/plain": [
       "<matplotlib.figure.Figure at 0x10b93a3d0>"
      ]
     },
     "metadata": {},
     "output_type": "display_data"
    }
   ],
   "source": [
    "thinkplot.Cdf(cdf, complement=True)\n",
    "thinkplot.Show(xlabel=\"minutes\",\n",
    "               ylabel=\"CCDF\",\n",
    "               yscale='log')"
   ]
  },
  {
   "cell_type": "markdown",
   "metadata": {},
   "source": [
    "$\\lambda$ can be interpreted as the number of events that occur on average in a unit of time.\n",
    "\n",
    "**mean of exponential distribution** is ${1 }\\ /\\ {\\lambda}$ ."
   ]
  },
  {
   "cell_type": "markdown",
   "metadata": {},
   "source": [
    "###Normal Distribution\n",
    "\n",
    "*  characterized by the mean and the standard deviation. \n",
    "*  **standard nomral distribution**: $\\mu = 0$ and $\\sigma = 1$\n",
    "*  CDF is defied by an integral that does not have a closed form solution.  instead, use\n",
    "\n",
    "```python\n",
    "import scipy.stats\n",
    "scipy.stats.norm.cdf(0)\n",
    "```\n",
    "    --> 0.5\n",
    "    \n",
    "*  to test normal distribution, use **normal pobability plot**.\n",
    "\n",
    "    1. Sort the values in the sample.\n",
    "    \n",
    "    2. From a standard normal distribution, generate a random sample with the same size as the sample and sort it.\n",
    "    \n",
    "    3. Plot the sorted values from the sample versus the random values.\n",
    "\n",
    "  if the distribution of the sample is approximately normal the result is a straight line with intercept $\\mu$ and slope $\\sigma$.\n",
    "    \n",
    "  To do this use:\n",
    "  \n",
    "```python\n",
    "xs, ys = thinkstats2.NormalProbability(sample)\n",
    "```\n",
    "  \n",
    "  `ys` contains the sorted values from `sample`; `xs` contains the random values from the standard normal distribution.\n",
    "    "
   ]
  },
  {
   "cell_type": "code",
   "execution_count": 24,
   "metadata": {
    "collapsed": false
   },
   "outputs": [
    {
     "data": {
      "image/png": "[encoded data removed]",
      "text/plain": [
       "<matplotlib.figure.Figure at 0x10ccb0150>"
      ]
     },
     "metadata": {},
     "output_type": "display_data"
    }
   ],
   "source": [
    "def MakeNormalPlot(weights):\n",
    "    mean = weights.mean()\n",
    "    std = weights.std()\n",
    "    \n",
    "    xs = [-4, 4]\n",
    "    fxs, fys = thinkstats2.FitLine(xs, inter=mean, slope=std)\n",
    "    thinkplot.Plot(fxs, fys, color='gray', label='model')\n",
    "    \n",
    "    xs, ys = thinkstats2.NormalProbability(weights)\n",
    "    thinkplot.Plot(xs, ys, label='birth weights')\n",
    "\n",
    "MakeNormalPlot(df.weight_g)"
   ]
  },
  {
   "cell_type": "markdown",
   "metadata": {},
   "source": [
    "###The Lognormal Distribution\n",
    "\n",
    "**lognormal distribution** when the logarithms of a set of values have a normal distribution.\n",
    "\n",
    "$$\n",
    "CDF_{lognormal}(x) = CDF_{normal}(logx)\n",
    "$$\n",
    "\n",
    "$\\mu$ and $\\sigma$ are the parameters, but not the mean and standard deviation.\n",
    "\n",
    "**mean** is $\\exp(\\mu + \\sigma^2 / 2)$ and the **standard deviation** is ugly.\n",
    "\n",
    "*  If you plot a lognormal's CDF on a logx scale, it will look like a normal distribution.\n",
    "\n",
    "*  To test it, you can make a normal probability plot using the log of the values in the sample.\n"
   ]
  },
  {
   "cell_type": "markdown",
   "metadata": {},
   "source": [
    "###The Pareto Distribution\n",
    "\n",
    "The CDF of the Pareto distribution is:\n",
    "$$\n",
    "CDF(x) = 1 - \\bigg(\\dfrac{x}{x_m}\\bigg) ^{-\\alpha}\n",
    "$$\n",
    "\n",
    "The params are:\n",
    "*  $x_m$, minimum possible value\n",
    "*  $\\alpha$ \n",
    "\n",
    "**To Test:**\n",
    "on a log-log scale, the CCDF looks like a straight line with slope, $\\alpha$ and intercept, $x_m$"
   ]
  },
  {
   "cell_type": "code",
   "execution_count": null,
   "metadata": {
    "collapsed": true
   },
   "outputs": [],
   "source": []
  }
 ],
 "metadata": {
  "kernelspec": {
   "display_name": "Python 2",
   "language": "python",
   "name": "python2"
  },
  "language_info": {
   "codemirror_mode": {
    "name": "ipython",
    "version": 2
   },
   "file_extension": ".py",
   "mimetype": "text/x-python",
   "name": "python",
   "nbconvert_exporter": "python",
   "pygments_lexer": "ipython2",
   "version": "2.7.10"
  }
 },
 "nbformat": 4,
 "nbformat_minor": 0
}
