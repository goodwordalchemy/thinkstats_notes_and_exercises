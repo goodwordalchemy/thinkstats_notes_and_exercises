{
 "cells": [
  {
   "cell_type": "markdown",
   "metadata": {},
   "source": [
    "Exercise from Think Stats, 2nd Edition (thinkstats2.com)<br>\n",
    "Allen Downey\n",
    "\n",
    "Read the pregnancy file."
   ]
  },
  {
   "cell_type": "code",
   "execution_count": 1,
   "metadata": {
    "collapsed": false
   },
   "outputs": [
    {
     "name": "stderr",
     "output_type": "stream",
     "text": [
      "nsfg.py:42: SettingWithCopyWarning: \n",
      "A value is trying to be set on a copy of a slice from a DataFrame\n",
      "\n",
      "See the the caveats in the documentation: http://pandas.pydata.org/pandas-docs/stable/indexing.html#indexing-view-versus-copy\n",
      "  df.birthwgt_lb[df.birthwgt_lb > 20] = np.nan\n"
     ]
    }
   ],
   "source": [
    "%matplotlib inline\n",
    "\n",
    "import nsfg\n",
    "preg = nsfg.ReadFemPreg()"
   ]
  },
  {
   "cell_type": "code",
   "execution_count": 44,
   "metadata": {
    "collapsed": true
   },
   "outputs": [],
   "source": [
    "import thinkstats2\n",
    "import thinkplot\n",
    "import numpy as np"
   ]
  },
  {
   "cell_type": "markdown",
   "metadata": {},
   "source": [
    "Select live births, then make a CDF of <tt>totalwgt_lb</tt>. "
   ]
  },
  {
   "cell_type": "code",
   "execution_count": 27,
   "metadata": {
    "collapsed": false
   },
   "outputs": [
    {
     "name": "stdout",
     "output_type": "stream",
     "text": [
      "       caseid  pregordr  howpreg_n  howpreg_p  moscurrp  nowprgdk  pregend1  \\\n",
      "0           1         1        NaN        NaN       NaN       NaN         6   \n",
      "1           1         2        NaN        NaN       NaN       NaN         6   \n",
      "2           2         1        NaN        NaN       NaN       NaN         5   \n",
      "3           2         2        NaN        NaN       NaN       NaN         6   \n",
      "4           2         3        NaN        NaN       NaN       NaN         6   \n",
      "5           6         1        NaN        NaN       NaN       NaN         6   \n",
      "6           6         2        NaN        NaN       NaN       NaN         6   \n",
      "7           6         3        NaN        NaN       NaN       NaN         6   \n",
      "8           7         1        NaN        NaN       NaN       NaN         5   \n",
      "9           7         2        NaN        NaN       NaN       NaN         5   \n",
      "10         12         1        NaN        NaN       NaN       NaN         5   \n",
      "11         14         1        NaN        NaN       NaN       NaN         6   \n",
      "12         14         2        NaN        NaN       NaN       NaN         6   \n",
      "15         15         2        NaN        NaN       NaN       NaN         6   \n",
      "16         15         3        NaN        NaN       NaN       NaN         6   \n",
      "17         18         1        NaN        NaN       NaN       NaN         5   \n",
      "19         21         1        NaN        NaN       NaN       NaN         6   \n",
      "20         21         2        NaN        NaN       NaN       NaN         6   \n",
      "21         23         1        NaN        NaN       NaN       NaN         6   \n",
      "23         24         1        NaN        NaN       NaN       NaN         6   \n",
      "24         24         2        NaN        NaN       NaN       NaN         6   \n",
      "25         24         3        NaN        NaN       NaN       NaN         6   \n",
      "26         28         1        NaN        NaN       NaN       NaN         6   \n",
      "27         31         1        NaN        NaN       NaN       NaN         6   \n",
      "28         31         2        NaN        NaN       NaN       NaN         6   \n",
      "29         31         3        NaN        NaN       NaN       NaN         6   \n",
      "31         36         2        NaN        NaN       NaN       NaN         6   \n",
      "32         38         1        NaN        NaN       NaN       NaN         5   \n",
      "33         38         2        NaN        NaN       NaN       NaN         6   \n",
      "34         38         3        NaN        NaN       NaN       NaN         6   \n",
      "...       ...       ...        ...        ...       ...       ...       ...   \n",
      "13548   12539         2        NaN        NaN       NaN       NaN         5   \n",
      "13551   12541         1        NaN        NaN       NaN       NaN         6   \n",
      "13552   12541         2        NaN        NaN       NaN       NaN         6   \n",
      "13553   12541         3        NaN        NaN       NaN       NaN         6   \n",
      "13554   12541         4        NaN        NaN       NaN       NaN         6   \n",
      "13555   12544         1        NaN        NaN       NaN       NaN         5   \n",
      "13556   12544         2        NaN        NaN       NaN       NaN         5   \n",
      "13557   12544         3        NaN        NaN       NaN       NaN         5   \n",
      "13559   12545         2        NaN        NaN       NaN       NaN         6   \n",
      "13560   12546         1        NaN        NaN       NaN       NaN         6   \n",
      "13561   12546         2        NaN        NaN       NaN       NaN         6   \n",
      "13562   12547         1        NaN        NaN       NaN       NaN         6   \n",
      "13563   12547         2        NaN        NaN       NaN       NaN         6   \n",
      "13564   12547         3        NaN        NaN       NaN       NaN         6   \n",
      "13565   12550         1        NaN        NaN       NaN       NaN         6   \n",
      "13566   12551         1        NaN        NaN       NaN       NaN         5   \n",
      "13569   12556         1        NaN        NaN       NaN       NaN         6   \n",
      "13570   12556         2        NaN        NaN       NaN       NaN         6   \n",
      "13571   12556         3        NaN        NaN       NaN       NaN         6   \n",
      "13572   12556         4        NaN        NaN       NaN       NaN         6   \n",
      "13573   12561         1        NaN        NaN       NaN       NaN         6   \n",
      "13574   12561         2        NaN        NaN       NaN       NaN         6   \n",
      "13576   12565         1        NaN        NaN       NaN       NaN         6   \n",
      "13578   12566         1        NaN        NaN       NaN       NaN         6   \n",
      "13579   12566         2        NaN        NaN       NaN       NaN         6   \n",
      "13581   12568         2        NaN        NaN       NaN       NaN         5   \n",
      "13584   12569         2        NaN        NaN       NaN       NaN         6   \n",
      "13588   12571         1        NaN        NaN       NaN       NaN         6   \n",
      "13591   12571         4        NaN        NaN       NaN       NaN         6   \n",
      "13592   12571         5        NaN        NaN       NaN       NaN         6   \n",
      "\n",
      "       pregend2  nbrnaliv  multbrth     ...       laborfor_i  religion_i  \\\n",
      "0           NaN         1       NaN     ...                0           0   \n",
      "1           NaN         1       NaN     ...                0           0   \n",
      "2           NaN         3         5     ...                0           0   \n",
      "3           NaN         1       NaN     ...                0           0   \n",
      "4           NaN         1       NaN     ...                0           0   \n",
      "5           NaN         1       NaN     ...                0           0   \n",
      "6           NaN         1       NaN     ...                0           0   \n",
      "7           NaN         1       NaN     ...                0           0   \n",
      "8           NaN         1       NaN     ...                0           0   \n",
      "9           NaN         1       NaN     ...                0           0   \n",
      "10          NaN         1       NaN     ...                0           0   \n",
      "11          NaN         1       NaN     ...                0           0   \n",
      "12          NaN         1       NaN     ...                0           0   \n",
      "15          NaN         1       NaN     ...                0           0   \n",
      "16          NaN         1       NaN     ...                0           0   \n",
      "17          NaN         1       NaN     ...                0           0   \n",
      "19          NaN         1       NaN     ...                0           0   \n",
      "20          NaN         1       NaN     ...                0           0   \n",
      "21          NaN         1       NaN     ...                0           0   \n",
      "23          NaN         1       NaN     ...                0           0   \n",
      "24          NaN         1       NaN     ...                0           0   \n",
      "25          NaN         1       NaN     ...                0           0   \n",
      "26          NaN         1       NaN     ...                0           0   \n",
      "27          NaN         1       NaN     ...                0           0   \n",
      "28          NaN         1       NaN     ...                0           0   \n",
      "29          NaN         1       NaN     ...                0           0   \n",
      "31          NaN         1       NaN     ...                0           0   \n",
      "32          NaN         1       NaN     ...                0           0   \n",
      "33          NaN         1       NaN     ...                0           0   \n",
      "34          NaN         1       NaN     ...                0           0   \n",
      "...         ...       ...       ...     ...              ...         ...   \n",
      "13548       NaN         1       NaN     ...                0           0   \n",
      "13551       NaN         1       NaN     ...                0           0   \n",
      "13552       NaN         1       NaN     ...                0           0   \n",
      "13553       NaN         1       NaN     ...                0           0   \n",
      "13554       NaN         1       NaN     ...                0           0   \n",
      "13555       NaN         1       NaN     ...                0           0   \n",
      "13556       NaN         1       NaN     ...                0           0   \n",
      "13557       NaN         1       NaN     ...                0           0   \n",
      "13559       NaN         1       NaN     ...                0           0   \n",
      "13560       NaN         1       NaN     ...                0           0   \n",
      "13561       NaN         1       NaN     ...                0           0   \n",
      "13562       NaN         1       NaN     ...                0           0   \n",
      "13563       NaN         1       NaN     ...                0           0   \n",
      "13564       NaN         1       NaN     ...                0           0   \n",
      "13565       NaN         1       NaN     ...                0           0   \n",
      "13566       NaN         1       NaN     ...                0           0   \n",
      "13569       NaN         1       NaN     ...                0           0   \n",
      "13570       NaN         1       NaN     ...                0           0   \n",
      "13571       NaN         1       NaN     ...                0           0   \n",
      "13572       NaN         1       NaN     ...                0           0   \n",
      "13573       NaN         1       NaN     ...                0           0   \n",
      "13574       NaN         1       NaN     ...                0           0   \n",
      "13576       NaN         1       NaN     ...                0           0   \n",
      "13578       NaN         1       NaN     ...                0           0   \n",
      "13579       NaN         1       NaN     ...                0           0   \n",
      "13581       NaN         1       NaN     ...                0           0   \n",
      "13584       NaN         1       NaN     ...                0           0   \n",
      "13588       NaN         1       NaN     ...                0           0   \n",
      "13591       NaN         1       NaN     ...                0           0   \n",
      "13592       NaN         1       NaN     ...                0           0   \n",
      "\n",
      "       metro_i      basewgt  adj_mod_basewgt      finalwgt  secu_p  sest  \\\n",
      "0            0  3410.389399      3869.349602   6448.271112       2     9   \n",
      "1            0  3410.389399      3869.349602   6448.271112       2     9   \n",
      "2            0  7226.301740      8567.549110  12999.542264       2    12   \n",
      "3            0  7226.301740      8567.549110  12999.542264       2    12   \n",
      "4            0  7226.301740      8567.549110  12999.542264       2    12   \n",
      "5            0  4870.926435      5325.196999   8874.440799       1    23   \n",
      "6            0  4870.926435      5325.196999   8874.440799       1    23   \n",
      "7            0  4870.926435      5325.196999   8874.440799       1    23   \n",
      "8            0  3409.579565      3787.539000   6911.879921       2    14   \n",
      "9            0  3409.579565      3787.539000   6911.879921       2    14   \n",
      "10           0  3612.781968      4146.013572   6909.331618       1    31   \n",
      "11           0  2418.069494      2810.302771   3039.904507       2    56   \n",
      "12           0  2418.069494      2810.302771   3039.904507       2    56   \n",
      "15           0  1667.816099      3200.862017   5553.495599       1    33   \n",
      "16           0  1667.816099      3200.862017   5553.495599       1    33   \n",
      "17           0  2957.257457      3404.403067   4153.371741       2    14   \n",
      "19           0  3408.342437      3965.763949   7237.122630       1    48   \n",
      "20           0  3408.342437      3965.763949   7237.122630       1    48   \n",
      "21           0  6210.373020      8120.841310  13533.382043       2    64   \n",
      "23           0  3409.573258      4068.628645   7424.840414       1    27   \n",
      "24           0  3409.573258      4068.628645   7424.840414       1    27   \n",
      "25           0  3409.573258      4068.628645   7424.840414       1    27   \n",
      "26           0  3407.794208      3808.343516   6949.846082       2    57   \n",
      "27           0  3405.679025      4272.084519   5211.943113       1     2   \n",
      "28           0  3405.679025      4272.084519   5211.943113       1     2   \n",
      "29           0  3405.679025      4272.084519   5211.943113       1     2   \n",
      "31           0  1668.415087      1969.717778   3594.537973       1    69   \n",
      "32           0  4780.758522      5555.002527  10137.324111       2    36   \n",
      "33           0  4780.758522      5555.002527  10137.324111       2    36   \n",
      "34           0  4780.758522      5555.002527  10137.324111       2    36   \n",
      "...        ...          ...              ...           ...     ...   ...   \n",
      "13548        0  2580.696230      3021.661943   5514.230879       1    14   \n",
      "13551        0  3248.105346      4194.073923   5322.699216       2    45   \n",
      "13552        0  3248.105346      4194.073923   5322.699216       2    45   \n",
      "13553        0  3248.105346      4194.073923   5322.699216       2    45   \n",
      "13554        0  3248.105346      4194.073923   5322.699216       2    45   \n",
      "13555        0  5197.958762      5779.040455   7334.180241       1    17   \n",
      "13556        0  5197.958762      5779.040455   7334.180241       1    17   \n",
      "13557        0  5197.958762      5779.040455   7334.180241       1    17   \n",
      "13559        0  6704.586080      8349.765651  13914.884458       2    53   \n",
      "13560        0  4602.798759      7717.382897   9415.207134       1    29   \n",
      "13561        0  4602.798759      7717.382897   9415.207134       1    29   \n",
      "13562        0  3453.545517      6628.022524  11499.619080       1    52   \n",
      "13563        0  3453.545517      6628.022524  11499.619080       1    52   \n",
      "13564        0  3453.545517      6628.022524  11499.619080       1    52   \n",
      "13565        0  3080.452699      3745.326058   5268.550165       1    79   \n",
      "13566        0  2418.538866      3653.453268   3951.940400       2    75   \n",
      "13569        0  2474.619764      3250.573384   3965.699528       1    44   \n",
      "13570        0  2474.619764      3250.573384   3965.699528       1    44   \n",
      "13571        0  2474.619764      3250.573384   3965.699528       1    44   \n",
      "13572        0  2474.619764      3250.573384   3965.699528       1    44   \n",
      "13573        0  2418.089703      2698.650781   4497.301527       1    10   \n",
      "13574        0  2418.089703      2698.650781   4497.301527       1    10   \n",
      "13576        0  3195.641221      3834.241709   6652.409365       1    78   \n",
      "13578        0  2080.317155      2422.820274   2627.548587       2     2   \n",
      "13579        0  2080.317155      2422.820274   2627.548587       2     2   \n",
      "13581        0  2734.687353      4258.980140   7772.212858       2    28   \n",
      "13584        0  2580.967613      2925.167116   5075.164946       2    61   \n",
      "13588        0  4670.540953      5795.692880   6269.200989       1    78   \n",
      "13591        0  4670.540953      5795.692880   6269.200989       1    78   \n",
      "13592        0  4670.540953      5795.692880   6269.200989       1    78   \n",
      "\n",
      "       cmintvw  totalwgt_lb  \n",
      "0          NaN       8.8125  \n",
      "1          NaN       7.8750  \n",
      "2          NaN       9.1250  \n",
      "3          NaN       7.0000  \n",
      "4          NaN       6.1875  \n",
      "5          NaN       8.5625  \n",
      "6          NaN       9.5625  \n",
      "7          NaN       8.3750  \n",
      "8          NaN       7.5625  \n",
      "9          NaN       6.6250  \n",
      "10         NaN       7.8125  \n",
      "11         NaN       7.0000  \n",
      "12         NaN       4.0000  \n",
      "15         NaN       7.6875  \n",
      "16         NaN       7.5000  \n",
      "17         NaN       6.3125  \n",
      "19         NaN       8.7500  \n",
      "20         NaN       8.1875  \n",
      "21         NaN       5.5625  \n",
      "23         NaN       6.7500  \n",
      "24         NaN       7.3750  \n",
      "25         NaN       6.8125  \n",
      "26         NaN       8.1250  \n",
      "27         NaN       7.1250  \n",
      "28         NaN       6.0625  \n",
      "29         NaN       7.4375  \n",
      "31         NaN       8.0000  \n",
      "32         NaN       7.5000  \n",
      "33         NaN       7.2500  \n",
      "34         NaN       7.1250  \n",
      "...        ...          ...  \n",
      "13548      NaN      10.0625  \n",
      "13551      NaN       5.3750  \n",
      "13552      NaN          NaN  \n",
      "13553      NaN       7.5000  \n",
      "13554      NaN          NaN  \n",
      "13555      NaN       6.1250  \n",
      "13556      NaN       7.1250  \n",
      "13557      NaN       6.5000  \n",
      "13559      NaN       7.8750  \n",
      "13560      NaN       7.8750  \n",
      "13561      NaN       6.8750  \n",
      "13562      NaN       8.1250  \n",
      "13563      NaN       7.6875  \n",
      "13564      NaN       7.6250  \n",
      "13565      NaN       8.1250  \n",
      "13566      NaN       7.5000  \n",
      "13569      NaN       5.8125  \n",
      "13570      NaN       6.6875  \n",
      "13571      NaN       6.0000  \n",
      "13572      NaN       5.8125  \n",
      "13573      NaN       6.5625  \n",
      "13574      NaN       6.1250  \n",
      "13576      NaN       6.4375  \n",
      "13578      NaN       6.0000  \n",
      "13579      NaN       7.0000  \n",
      "13581      NaN       6.3750  \n",
      "13584      NaN       6.3750  \n",
      "13588      NaN       6.1875  \n",
      "13591      NaN       7.5000  \n",
      "13592      NaN       7.5000  \n",
      "\n",
      "[9148 rows x 244 columns]\n"
     ]
    }
   ],
   "source": [
    "live = preg[preg.outcome == 1]\n",
    "print live\n",
    "wgt_cdf = thinkstats2.Cdf(live.totalwgt_lb, label='')"
   ]
  },
  {
   "cell_type": "markdown",
   "metadata": {},
   "source": [
    "Display the CDF."
   ]
  },
  {
   "cell_type": "code",
   "execution_count": 6,
   "metadata": {
    "collapsed": false
   },
   "outputs": [
    {
     "name": "stderr",
     "output_type": "stream",
     "text": [
      "/Users/davidgoldberg/anaconda/lib/python2.7/site-packages/matplotlib/axes/_axes.py:475: UserWarning: No labelled objects found. Use label='...' kwarg on individual plots.\n",
      "  warnings.warn(\"No labelled objects found. \"\n"
     ]
    },
    {
     "data": {
      "image/png": "[encoded data removed]",
      "text/plain": [
       "<matplotlib.figure.Figure at 0x10b2825d0>"
      ]
     },
     "metadata": {},
     "output_type": "display_data"
    },
    {
     "data": {
      "text/plain": [
       "<matplotlib.figure.Figure at 0x10b1fef90>"
      ]
     },
     "metadata": {},
     "output_type": "display_data"
    }
   ],
   "source": [
    "thinkplot.Cdf(wgt_cdf)\n",
    "thinkplot.Show(xlabel='birthweight',\n",
    "               ylabel = 'CDF',\n",
    "               title = 'Cumulative Distribution of Birthweights')"
   ]
  },
  {
   "cell_type": "markdown",
   "metadata": {},
   "source": [
    "Find out how much you weighed at birth, if you can, and compute CDF(x). "
   ]
  },
  {
   "cell_type": "code",
   "execution_count": 19,
   "metadata": {
    "collapsed": false
   },
   "outputs": [
    {
     "data": {
      "text/plain": [
       "77.362248285018808"
      ]
     },
     "execution_count": 19,
     "metadata": {},
     "output_type": "execute_result"
    }
   ],
   "source": [
    "wgt_cdf.PercentileRank(8.2)\n",
    "# wgt_cdf.PercentileRank(live.totalwgt_lb.mean())"
   ]
  },
  {
   "cell_type": "markdown",
   "metadata": {},
   "source": [
    "If you are a first child, look up your birthweight in the CDF of first children; otherwise use the CDF of other children."
   ]
  },
  {
   "cell_type": "code",
   "execution_count": 21,
   "metadata": {
    "collapsed": false
   },
   "outputs": [
    {
     "data": {
      "text/plain": [
       "76.150481189851277"
      ]
     },
     "execution_count": 21,
     "metadata": {},
     "output_type": "execute_result"
    }
   ],
   "source": [
    "others = live[live.pregordr > 1]\n",
    "others_wgt_cdf = thinkstats2.Cdf(others.totalwgt_lb)\n",
    "others_wgt_cdf.PercentileRank(8.2)"
   ]
  },
  {
   "cell_type": "markdown",
   "metadata": {},
   "source": [
    "Compute the percentile rank of your birthweight"
   ]
  },
  {
   "cell_type": "code",
   "execution_count": 46,
   "metadata": {
    "collapsed": false
   },
   "outputs": [
    {
     "data": {
      "text/plain": [
       "81.422881168400082"
      ]
     },
     "execution_count": 46,
     "metadata": {},
     "output_type": "execute_result"
    }
   ],
   "source": []
  },
  {
   "cell_type": "markdown",
   "metadata": {},
   "source": [
    "Compute the median birth weight by looking up the value associated with p=0.5."
   ]
  },
  {
   "cell_type": "code",
   "execution_count": 22,
   "metadata": {
    "collapsed": false
   },
   "outputs": [
    {
     "data": {
      "text/plain": [
       "7.375"
      ]
     },
     "execution_count": 22,
     "metadata": {},
     "output_type": "execute_result"
    }
   ],
   "source": [
    "wgt_cdf.Value(0.5)"
   ]
  },
  {
   "cell_type": "markdown",
   "metadata": {},
   "source": [
    "Compute the interquartile range (IQR) by computing percentiles corresponding to 25 and 75. "
   ]
  },
  {
   "cell_type": "code",
   "execution_count": 23,
   "metadata": {
    "collapsed": false
   },
   "outputs": [
    {
     "data": {
      "text/plain": [
       "(6.5, 8.125)"
      ]
     },
     "execution_count": 23,
     "metadata": {},
     "output_type": "execute_result"
    }
   ],
   "source": [
    "iqr = (wgt_cdf.Percentile(25), wgt_cdf.Percentile(75))\n",
    "iqr"
   ]
  },
  {
   "cell_type": "markdown",
   "metadata": {},
   "source": [
    "Make a random selection from <tt>cdf</tt>."
   ]
  },
  {
   "cell_type": "code",
   "execution_count": 25,
   "metadata": {
    "collapsed": false
   },
   "outputs": [
    {
     "data": {
      "text/plain": [
       "8.125"
      ]
     },
     "execution_count": 25,
     "metadata": {},
     "output_type": "execute_result"
    }
   ],
   "source": [
    "wgt_cdf.Random()"
   ]
  },
  {
   "cell_type": "markdown",
   "metadata": {},
   "source": [
    "Draw a random sample from <tt>cdf</tt>."
   ]
  },
  {
   "cell_type": "code",
   "execution_count": 28,
   "metadata": {
    "collapsed": false
   },
   "outputs": [
    {
     "data": {
      "text/plain": [
       "array([ 6.3125,  6.625 ,  8.    ,  5.375 ,  7.5625,  7.5   ,  6.4375,\n",
       "        8.0625,  6.1875,  4.8125])"
      ]
     },
     "execution_count": 28,
     "metadata": {},
     "output_type": "execute_result"
    }
   ],
   "source": [
    "wgt_cdf.Sample(10)"
   ]
  },
  {
   "cell_type": "markdown",
   "metadata": {},
   "source": [
    "Draw a random sample from <tt>cdf</tt>, then compute the percentile rank for each value, and plot the distribution of the percentile ranks."
   ]
  },
  {
   "cell_type": "code",
   "execution_count": 43,
   "metadata": {
    "collapsed": false
   },
   "outputs": [
    {
     "data": {
      "text/plain": [
       "{'xscale': 'linear', 'yscale': 'linear'}"
      ]
     },
     "execution_count": 43,
     "metadata": {},
     "output_type": "execute_result"
    },
    {
     "data": {
      "image/png": "[encoded data removed]",
      "text/plain": [
       "<matplotlib.figure.Figure at 0x10b8b7150>"
      ]
     },
     "metadata": {},
     "output_type": "display_data"
    }
   ],
   "source": [
    "values = wgt_cdf.Sample(1000)\n",
    "values_hist = thinkstats2.Hist(values, 'values')\n",
    "\n",
    "ranks = [wgt_cdf.PercentileRank(v) for v in values]\n",
    "ranks_hist = thinkstats2.Hist(ranks, 'ranks')\n",
    "\n",
    "thinkplot.PrePlot(3, rows=3)\n",
    "thinkplot.SubPlot(1)\n",
    "thinkplot.Hist(values_hist, label='values Hist')\n",
    "\n",
    "thinkplot.SubPlot(2)\n",
    "values_cdf = thinkstats2.Cdf(values, label='values CDF')\n",
    "thinkplot.Cdf(values_cdf)\n",
    "\n",
    "\n",
    "thinkplot.SubPlot(3)\n",
    "ranks_cdf = thinkstats2.Cdf(ranks, label='ranks CDF')\n",
    "thinkplot.Cdf(ranks_cdf)"
   ]
  },
  {
   "cell_type": "markdown",
   "metadata": {},
   "source": [
    "Generate 1000 random values using <tt>random.random()</tt> and plot their PMF."
   ]
  },
  {
   "cell_type": "code",
   "execution_count": 54,
   "metadata": {
    "collapsed": false
   },
   "outputs": [
    {
     "data": {
      "image/png": "[encoded data removed]",
      "text/plain": [
       "<matplotlib.figure.Figure at 0x10ab34a90>"
      ]
     },
     "metadata": {},
     "output_type": "display_data"
    }
   ],
   "source": [
    "rand_vals = [np.random.random() for i in range(100)]\n",
    "\n",
    "rv_pmf = thinkstats2.Pmf(rand_vals, label=\"random values\")\n",
    "thinkplot.Hist(rv_pmf)"
   ]
  },
  {
   "cell_type": "markdown",
   "metadata": {},
   "source": [
    "Assuming that the PMF doesn't work very well, try plotting the CDF instead."
   ]
  },
  {
   "cell_type": "code",
   "execution_count": 55,
   "metadata": {
    "collapsed": false
   },
   "outputs": [
    {
     "data": {
      "text/plain": [
       "{'xscale': 'linear', 'yscale': 'linear'}"
      ]
     },
     "execution_count": 55,
     "metadata": {},
     "output_type": "execute_result"
    },
    {
     "data": {
      "image/png": "[encoded data removed]",
      "text/plain": [
       "<matplotlib.figure.Figure at 0x10ab82e50>"
      ]
     },
     "metadata": {},
     "output_type": "display_data"
    }
   ],
   "source": [
    "rv_cdf = thinkstats2.Cdf(rand_vals, label=\"random values\")\n",
    "thinkplot.Cdf(rv_cdf)"
   ]
  },
  {
   "cell_type": "code",
   "execution_count": null,
   "metadata": {
    "collapsed": false
   },
   "outputs": [],
   "source": []
  },
  {
   "cell_type": "code",
   "execution_count": 64,
   "metadata": {
    "collapsed": false
   },
   "outputs": [
    {
     "data": {
      "text/plain": [
       "0.5"
      ]
     },
     "execution_count": 64,
     "metadata": {},
     "output_type": "execute_result"
    }
   ],
   "source": []
  },
  {
   "cell_type": "code",
   "execution_count": null,
   "metadata": {
    "collapsed": false
   },
   "outputs": [],
   "source": []
  }
 ],
 "metadata": {
  "kernelspec": {
   "display_name": "Python 2",
   "language": "python",
   "name": "python2"
  },
  "language_info": {
   "codemirror_mode": {
    "name": "ipython",
    "version": 2
   },
   "file_extension": ".py",
   "mimetype": "text/x-python",
   "name": "python",
   "nbconvert_exporter": "python",
   "pygments_lexer": "ipython2",
   "version": "2.7.10"
  }
 },
 "nbformat": 4,
 "nbformat_minor": 0
}
