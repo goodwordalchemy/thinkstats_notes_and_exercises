{
 "cells": [
  {
   "cell_type": "markdown",
   "metadata": {},
   "source": [
    "**Distribution:** records each value and how many times those values appear\n",
    "\n",
    "**Histogram:** shows the fequency of each value in a distribution"
   ]
  },
  {
   "cell_type": "code",
   "execution_count": 5,
   "metadata": {
    "collapsed": false
   },
   "outputs": [
    {
     "data": {
      "text/plain": [
       "Hist({1: 1, 2: 2, 3: 1, 5: 1})"
      ]
     },
     "execution_count": 5,
     "metadata": {},
     "output_type": "execute_result"
    }
   ],
   "source": [
    "import thinkstats2\n",
    "hist = thinkstats2.Hist([1,2,2,3,5])\n",
    "hist"
   ]
  },
  {
   "cell_type": "code",
   "execution_count": 2,
   "metadata": {
    "collapsed": false
   },
   "outputs": [
    {
     "name": "stdout",
     "output_type": "stream",
     "text": [
      "True\n",
      "0\n",
      "[1, 2, 3, 5]\n",
      "(1, 1)\n",
      "(2, 2)\n",
      "(3, 1)\n",
      "(5, 1)\n",
      "(1, 1)\n",
      "(2, 2)\n",
      "(3, 1)\n",
      "(5, 1)\n"
     ]
    }
   ],
   "source": [
    "print hist.Freq(2) == hist[2]\n",
    "print hist[4]\n",
    "print hist.Values()\n",
    "for val in sorted(hist.Values()):\n",
    "    print (val, hist.Freq(val))\n",
    "for val, freq in hist.Items():\n",
    "    print (val, freq)"
   ]
  },
  {
   "cell_type": "code",
   "execution_count": 7,
   "metadata": {
    "collapsed": false
   },
   "outputs": [],
   "source": [
    "import thinkplot\n",
    "\n",
    "thinkplot.Hist(hist)\n",
    "thinkplot.Show(xlabel='value', ylabel='frequency')"
   ]
  },
  {
   "cell_type": "markdown",
   "metadata": {},
   "source": [
    "**NOTE:** documentation for thinkplot at [this](http://greenteapress.com/thinkstats2/thinkplot.html) link\n",
    "\n"
   ]
  },
  {
   "cell_type": "code",
   "execution_count": 15,
   "metadata": {
    "collapsed": false
   },
   "outputs": [],
   "source": [
    "import nsfg\n",
    "preg = nsfg.ReadFemPreg()\n",
    "live = preg[preg.outcome == 1]\n",
    "hist = thinkstats2.Hist(live.birthwgt_lb, label='birthwgt_lb')\n",
    "thinkplot.Hist(hist)\n",
    "thinkplot.Show(xlabel='pounds',ylabel='frequency')"
   ]
  },
  {
   "cell_type": "markdown",
   "metadata": {},
   "source": [
    "*  Best way to handle outliers is \"domain knowledge\"--infor about where the data come from and what they mean."
   ]
  },
  {
   "cell_type": "code",
   "execution_count": 23,
   "metadata": {
    "collapsed": false
   },
   "outputs": [
    {
     "name": "stderr",
     "output_type": "stream",
     "text": [
      "/Users/davidgoldberg/anaconda/lib/python2.7/site-packages/matplotlib/axes/_axes.py:475: UserWarning: No labelled objects found. Use label='...' kwarg on individual plots.\n",
      "  warnings.warn(\"No labelled objects found. \"\n"
     ]
    }
   ],
   "source": [
    "\n",
    "firsts = live[live.birthord == 1]\n",
    "others = live[live.birthord != 1]\n",
    "\n",
    "first_hist = thinkstats2.Hist(firsts.prglngth)\n",
    "other_hist = thinkstats2.Hist(others.prglngth)\n",
    "\n",
    "width = 0.45\n",
    "\n",
    "# takes the amount of histograms we are going to plot\n",
    "# in order to choose color\n",
    "thinkplot.PrePlot(2) \n",
    "thinkplot.Hist(first_hist, align='right',width=width)\n",
    "thinkplot.Hist(other_hist, align='left', width=width)\n",
    "thinkplot.Show(xlabel='weeks', \n",
    "               ylabel='frequency',\n",
    "               axis=[27, 46, 0, 2700])"
   ]
  },
  {
   "cell_type": "markdown",
   "metadata": {},
   "source": [
    "**Note:** apparent differences due to sample size.  Probability Mass Functions (PDFs) will help with that problem. "
   ]
  },
  {
   "cell_type": "markdown",
   "metadata": {},
   "source": [
    "###Summary Statistics:\n",
    "\n",
    "*  central tendency -- do the values cluster?\n",
    "*  modes -- is there more than one cluster?\n",
    "*  spread -- How much variablity is there in the values?\n",
    "*  tails -- How quickly do the probabilities drop off as we move away from the modes?\n",
    "* outliers -- are there extreme values far from the modes?\n",
    "\n",
    "###mean versus average:\n",
    "\n",
    "**mean:** summary statistic computed using x = 1/n * sum([i for i in x]) where n is the number of samples and x is a list of values.\n",
    "\n",
    "**average:** one of several summary stats yout might choose to describe a central tendency.\n",
    "\n",
    "###variance:\n",
    "\n",
    "*  describes variability or spread of a distribution.  the mean squared deviation\n",
    "\n",
    "\n",
    "$$\\sigma^2 = \\frac{1} {n}\\displaystyle\\sum_{i=1}^{n}(x_i - \\mu)^2 $$\n",
    "\n",
    "*  x(i) - mu is called \"deviation from the mean,\" so variance is the \"mean squared deviation\"\n",
    "\n",
    "*  variance is not a good summary statistic because it is hard to interpret.\n"
   ]
  },
  {
   "cell_type": "code",
   "execution_count": 13,
   "metadata": {
    "collapsed": false
   },
   "outputs": [
    {
     "name": "stdout",
     "output_type": "stream",
     "text": [
      "mean:     38.5605596852\n",
      "variance: 7.30266206783\n",
      "std:      2.70234381007\n"
     ]
    }
   ],
   "source": [
    "mean = live.prglngth.mean()\n",
    "var = live.prglngth.var()\n",
    "std = live.prglngth.std()\n",
    "\n",
    "print \"mean:    \",mean\n",
    "print \"variance:\",var\n",
    "print \"std:     \",std\n"
   ]
  },
  {
   "cell_type": "markdown",
   "metadata": {},
   "source": [
    "###Effect Size\n",
    "\n",
    "*  one method is to compute the difference in means and report it as a fraction of one of the values.\n",
    "\n",
    "*  **Cohen's d** compares the difference between groups to the variablity within groups.\n",
    "\n",
    "$$\n",
    "d = \\frac{\\bar{x}_1 - \\bar{x}_2}{s}\n",
    "$$\n",
    "where $x_1$ and $x_2$ are the means of the groups and s is the \"pooled standard deviation.\"\n",
    "Using this measurement, you report difference in means as number of standard deviations, d\n"
   ]
  },
  {
   "cell_type": "code",
   "execution_count": 28,
   "metadata": {
    "collapsed": false
   },
   "outputs": [
    {
     "name": "stdout",
     "output_type": "stream",
     "text": [
      "diff of means in weeks: 0.0780372667775\n",
      "diff of means in hours:  13.1102608186\n",
      "0.202164100295 %\n"
     ]
    }
   ],
   "source": [
    "diff = abs(firsts.prglngth.mean() - others.prglngth.mean())\n",
    "print \"diff of means in weeks:\",diff\n",
    "print \"diff of means in hours: \", diff * 7 * 24\n",
    "print diff / firsts.prglngth.mean() * 100, '%'"
   ]
  },
  {
   "cell_type": "code",
   "execution_count": 26,
   "metadata": {
    "collapsed": false
   },
   "outputs": [
    {
     "name": "stdout",
     "output_type": "stream",
     "text": [
      "0.0288790446544\n"
     ]
    }
   ],
   "source": [
    "\n",
    "def CohenEffectSize(group1, group2):\n",
    "    import math\n",
    "    diff = group1.mean() - group2.mean()\n",
    "    \n",
    "    var1 = group1.var()\n",
    "    var2 = group2.var()\n",
    "    n1, n2 = len(group1), len(group2)\n",
    "    \n",
    "    #this is basically mean variance\n",
    "    pooled_var = (n1 * var1 + n2 * var2) / (n1 + n2)\n",
    "    d = diff / math.sqrt(pooled_var)\n",
    "    return d\n",
    "\n",
    "print CohenEffectSize(firsts.prglngth,others.prglngth)"
   ]
  },
  {
   "cell_type": "markdown",
   "metadata": {},
   "source": [
    "##Exercies 2.1\n",
    "\n",
    "Summarize the results in ths chapter regarding whether or not first babies arrive late.  Which summary statisitics would you use if you wanted to get a story on the evening news?  Which ones would yo use if you wanted to reassure an axious patient?    Finally, answer the question clearly, precisely, and honestly?\n",
    "\n",
    "####My Answer:\n",
    "\n",
    "a.)  if I wanted to get the story on the evening news, I'd probably just use the difference in means converted to hours so that it sounds like it is significant compared to the units.\n",
    "\n",
    "b.)  If I wanted to reasure an anxious patient, i'd use the percentage of the difference in means compared to the mean, because it is easy to understand but sounds like the very small difference that it is.\n",
    "\n",
    "c.)  There is very little difference in pregnancy length between first children and children born later on to the same mother.  I know this because the Cohen's *d* for the means of these two sets is 0.029--meaning the difference between the two is 0.029 standard deviations, which is extremely small.\n",
    "\n",
    "##Exercise 2.3\n",
    "\n",
    "Write a function, Mode, that takes a hist and returns the most frequent value.  The, write a function called AllModes that returns a list of value-frequency pairs in descending order of frequency."
   ]
  },
  {
   "cell_type": "code",
   "execution_count": 21,
   "metadata": {
    "collapsed": false
   },
   "outputs": [
    {
     "name": "stdout",
     "output_type": "stream",
     "text": [
      "key, freq\n",
      "7.0 \t3049\n",
      "6.0 \t2223\n",
      "8.0 \t1889\n",
      "5.0 \t697\n",
      "9.0 \t623\n",
      "4.0 \t229\n",
      "10.0 \t132\n",
      "3.0 \t98\n",
      "2.0 \t53\n",
      "1.0 \t40\n",
      "11.0 \t26\n",
      "12.0 \t10\n",
      "0.0 \t8\n",
      "13.0 \t3\n",
      "14.0 \t3\n",
      "15.0 \t1\n"
     ]
    }
   ],
   "source": [
    "def mode(hist):\n",
    "    largestKey = None\n",
    "    largestFreq = None\n",
    "    for key in hist:\n",
    "        freq = hist[key]\n",
    "        if freq > largestFreq:\n",
    "            largestKey = key\n",
    "            largestFreq = freq\n",
    "    return largestKey, largestFreq\n",
    "\n",
    "def allModes(hist):\n",
    "    histList = []\n",
    "    for key in hist:\n",
    "        histList.append((key, hist[key]))\n",
    "    return sorted(histList, key=lambda x: x[1], reverse=True)\n",
    "\n",
    "print 'key, freq'\n",
    "for key, freq in allModes(hist):\n",
    "    print key, '\\t',freq"
   ]
  },
  {
   "cell_type": "markdown",
   "metadata": {},
   "source": [
    "##Exercise 2.4\n",
    "\n",
    "Using the variable `totalwgt_lb` investigate whether first babies are lighter or heavier than others.  Compute Cohen's d to quantify the difference between the groups.\n",
    "\n"
   ]
  },
  {
   "cell_type": "code",
   "execution_count": 30,
   "metadata": {
    "collapsed": false
   },
   "outputs": [
    {
     "name": "stdout",
     "output_type": "stream",
     "text": [
      "-0.0886729270726\n",
      "-0.0886729270726\n"
     ]
    }
   ],
   "source": [
    "import math\n",
    "\n",
    "diff = firsts.totalwgt_lb.mean() - others.totalwgt_lb.mean()\n",
    "\n",
    "var1 = firsts.totalwgt_lb.var()\n",
    "var2 = others.totalwgt_lb.var()\n",
    "\n",
    "n1 = len(firsts)\n",
    "n2 = len(others)\n",
    "\n",
    "pooled_var = ((n1 * var1) + (n2 * var2)) / (n1 + n2)\n",
    "\n",
    "print diff / math.sqrt(pooled_var)\n",
    "print CohenEffectSize(firsts.totalwgt_lb, others.totalwgt_lb)"
   ]
  },
  {
   "cell_type": "code",
   "execution_count": null,
   "metadata": {
    "collapsed": true
   },
   "outputs": [],
   "source": []
  }
 ],
 "metadata": {
  "kernelspec": {
   "display_name": "Python 2",
   "language": "python",
   "name": "python2"
  },
  "language_info": {
   "codemirror_mode": {
    "name": "ipython",
    "version": 2
   },
   "file_extension": ".py",
   "mimetype": "text/x-python",
   "name": "python",
   "nbconvert_exporter": "python",
   "pygments_lexer": "ipython2",
   "version": "2.7.10"
  }
 },
 "nbformat": 4,
 "nbformat_minor": 0
}
