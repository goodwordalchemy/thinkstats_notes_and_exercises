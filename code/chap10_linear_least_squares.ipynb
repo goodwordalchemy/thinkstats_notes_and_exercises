{
 "cells": [
  {
   "cell_type": "code",
   "execution_count": 28,
   "metadata": {
    "collapsed": true
   },
   "outputs": [],
   "source": [
    "%matplotlib inline\n",
    "import thinkstats2, thinkplot\n",
    "import first\n",
    "import numpy as np\n",
    "import math"
   ]
  },
  {
   "cell_type": "markdown",
   "metadata": {},
   "source": [
    "###Linear Least Squares Fit\n",
    "\n",
    "*  linear - intended to model the relationship between variables.\n",
    "*  least squares fit is one that minimizes MSE between the line and the data.\n",
    "\n",
    "if there is a linear relationship between xs and ys with intercept `inter` and slope, `slope`, we expect each `y[i]` to be:\n",
    "\n",
    "```python\n",
    "inter + slope * x[i]\n",
    "```\n",
    "\n",
    "Unless the corelation is perfect this prediction is only approximate.  The vertical deviation from the line is called **residual**\n",
    "\n",
    "```python\n",
    "res = ys - (inter + slope * xs)\n",
    "```\n",
    "\n",
    "we want to find `inter` and `slope` that minimize `res`.  Usually its actually `sum(res**2)` that we want to minimize.\n"
   ]
  },
  {
   "cell_type": "code",
   "execution_count": 3,
   "metadata": {
    "collapsed": false
   },
   "outputs": [
    {
     "name": "stderr",
     "output_type": "stream",
     "text": [
      "nsfg.py:42: SettingWithCopyWarning: \n",
      "A value is trying to be set on a copy of a slice from a DataFrame\n",
      "\n",
      "See the the caveats in the documentation: http://pandas.pydata.org/pandas-docs/stable/indexing.html#indexing-view-versus-copy\n",
      "  df.birthwgt_lb[df.birthwgt_lb > 20] = np.nan\n"
     ]
    }
   ],
   "source": [
    "##birthweight vs mother's age:\n",
    "live, firsts, others = first.MakeFrames()\n",
    "live = live.dropna(subset=['agepreg', 'totalwgt_lb'])\n",
    "ages = live.agepreg\n",
    "weights = live.totalwgt_lb\n",
    "\n",
    "inter, slope = thinkstats2.LeastSquares(ages, weights)\n",
    "fit_xs, fit_ys = thinkstats2.FitLine(ages, inter, slope)\n",
    "\n"
   ]
  },
  {
   "cell_type": "code",
   "execution_count": 7,
   "metadata": {
    "collapsed": false
   },
   "outputs": [],
   "source": [
    "thinkplot.Plot(fit_xs, fit_ys)\n",
    "thinkplot.HexBin(ages, weights)\n",
    "thinkplot.Show()"
   ]
  },
  {
   "cell_type": "code",
   "execution_count": 10,
   "metadata": {
    "collapsed": false
   },
   "outputs": [],
   "source": [
    "##plotting residuals by percentile\n",
    "ages = live.agepreg\n",
    "weights = live.totalwgt_lb\n",
    "inter, slope = thinkstats2.LeastSquares(ages, weights)\n",
    "live['residual'] = thinkstats2.Residuals(ages, weights, inter, slope)\n",
    "\n",
    "bins = np.arange(10, 48, 3)\n",
    "indices = np.digitize(live.agepreg, bins)\n",
    "groups = live.groupby(indices)\n",
    "\n",
    "ages = [group.agepreg.mean() for _, group in groups][1:-1]\n",
    "cdfs = [thinkstats2.Cdf(group.residual) for _, group in groups][1:-1]\n",
    "\n",
    "thinkplot.PrePlot(3)\n",
    "for percent in [75, 50, 25]:\n",
    "    weights = [cdf.Percentile(percent) for cdf in cdfs]\n",
    "    label = '%dth' % percent\n",
    "    thinkplot.Plot(ages, weights, label=label)\n",
    "\n",
    "thinkplot.Config(root='linear2',\n",
    "               xlabel='age (years)',\n",
    "               ylabel='residual (lbs)',\n",
    "               xlim=[10, 45])"
   ]
  },
  {
   "cell_type": "code",
   "execution_count": 11,
   "metadata": {
    "collapsed": true
   },
   "outputs": [],
   "source": [
    "thinkplot.Show()"
   ]
  },
  {
   "cell_type": "markdown",
   "metadata": {},
   "source": [
    "To assess sampling error, draw samples from the observed sample with replacement and measure variability.\n"
   ]
  },
  {
   "cell_type": "code",
   "execution_count": 13,
   "metadata": {
    "collapsed": false
   },
   "outputs": [],
   "source": [
    "def SamplingDistributions(live, iters=101):\n",
    "    t = []\n",
    "    for _ in range(iters):\n",
    "        sample = thinkstats2.ResampleRows(live)\n",
    "        ages = sample.agepreg\n",
    "        weights = sample.totalwgt_lb\n",
    "        estimates = thinkstats2.LeastSquares(ages, weights)\n",
    "        t.append(estimates)\n",
    "    inters, slopes = zip(*t)\n",
    "    return inters, slopes\n",
    "\n",
    "def Summarize(estimates, actual=None):\n",
    "    mean = thinkstats2.Mean(estimates)\n",
    "    stderr = thinkstats2.Std(mu=actual)\n",
    "    cdf = thinkstats2.Cdf(estimates)\n",
    "    ci = cdf.ConfidenceInterval(90)\n",
    "    print 'mean, SE, CI', mean, stderr, ci"
   ]
  },
  {
   "cell_type": "code",
   "execution_count": null,
   "metadata": {
    "collapsed": true
   },
   "outputs": [],
   "source": [
    "def PlotConfidenceIntervals(xs, inters, slopes, \n",
    "                            percent=90, **options):\n",
    "    fys_seq = []\n",
    "    for inter, slope in zip(inters, slopes):\n",
    "        fxs, fys = thinkstats2.FitLine(xs, inter, slope)\n",
    "        fys_seq.append(fys)\n",
    "    p = (100 -  percent) / 2\n",
    "    percents = p, 100 - p\n",
    "    low, high = thinkstats2.PercentileRows(fys_seq, percents)\n",
    "    thinkplot.FillBetween(fxs, low, high, **options)"
   ]
  },
  {
   "cell_type": "markdown",
   "metadata": {},
   "source": [
    "So, what this code does is\n",
    "1.  Resample from the observed sample\n",
    "2.  Calc a least squares line for each resampling\n",
    "3.  select upper and lower percentiles of y for each value of x\n",
    "4.  Draw a polygon between them.\n",
    "\n",
    "Several ways to measure the **goodness of fit** of a linear model.\n",
    "*  Standard Deviation of the Residuals: `Std(res)` is RMSE for predicitons\n",
    "*  **Coefficient of Determination**: or R-squared:\n",
    "```python\n",
    "def CoefDetermination(ys, res):\n",
    "    return 1 - Var(res) / Var(ys)\n",
    "```\n",
    " `Var(res)` is the MSE of guesses using the model.  `Var(ys)` is the MSE without it (i.e. raw ys).  So their ratio is the fraction of MSE that remains if you use the model and $R^2$ is the fraction of MSE that the model eliminates.\n",
    "  \n",
    " Note that $R^2$ is equal to the square of Pearson's Coefficient of correlation."
   ]
  },
  {
   "cell_type": "markdown",
   "metadata": {},
   "source": [
    "###Testing a linear model\n",
    "\n",
    "How do we know that the apparent relationship isn't just due to chance?\n",
    "\n",
    "*  Test whether the aparent reduction in MSE is due to chance.  Test stat is $R^2$ and null hypothesis is that there is no relationship between variables, which we can simulate by permutation\n",
    "\n",
    "*  Test whether slope is due to chance.  Null hypothesis is that slope is actually 0.  Model birthweights as random variations around their mean"
   ]
  },
  {
   "cell_type": "code",
   "execution_count": 17,
   "metadata": {
    "collapsed": true
   },
   "outputs": [],
   "source": [
    "class SlopeTest(thinkstats2.HypothesisTest):\n",
    "    \n",
    "    def TestStatistic(self, data):\n",
    "        ages, weights = data\n",
    "        _, slope = thinkstats2.LeastSquares(ages, weights)\n",
    "        return slope\n",
    "\n",
    "    def MakeModel(self):\n",
    "        _, weights = self.data\n",
    "        self.ybar = weights.mean()\n",
    "        self.res = weights - self.ybar\n",
    "    def RunModel(self):\n",
    "        ages, _ = self.data\n",
    "        weights = self.ybar + np.random.permutation(self.res)\n",
    "        return ages, weights"
   ]
  },
  {
   "cell_type": "code",
   "execution_count": 20,
   "metadata": {
    "collapsed": false
   },
   "outputs": [],
   "source": [
    "ht = SlopeTest((live.agepreg, live.totalwgt_lb))\n",
    "pvalue = ht.PValue()"
   ]
  },
  {
   "cell_type": "code",
   "execution_count": 21,
   "metadata": {
    "collapsed": false
   },
   "outputs": [
    {
     "data": {
      "text/plain": [
       "0.0"
      ]
     },
     "execution_count": 21,
     "metadata": {},
     "output_type": "execute_result"
    }
   ],
   "source": [
    "pvalue"
   ]
  },
  {
   "cell_type": "markdown",
   "metadata": {},
   "source": [
    "Although the estimated slope is small, it is unlikely due to chance.\n",
    "\n",
    "Another way to get this pValue is to calculate the p value of the slope using the sampling distributions:\n"
   ]
  },
  {
   "cell_type": "code",
   "execution_count": 22,
   "metadata": {
    "collapsed": false
   },
   "outputs": [
    {
     "data": {
      "text/plain": [
       "0.0"
      ]
     },
     "execution_count": 22,
     "metadata": {},
     "output_type": "execute_result"
    }
   ],
   "source": [
    "inters, slopes = SamplingDistributions(live, iters=1001)\n",
    "slope_cdf = thinkstats2.Cdf(slopes)\n",
    "pvalue = slope_cdf[0]\n",
    "pvalue"
   ]
  },
  {
   "cell_type": "markdown",
   "metadata": {},
   "source": [
    "**weighted resampling** sampling weight indicates the number of people in the general population that the respondent represents.  \n",
    "\n",
    "To correct for oversampling, we can use resampling that draws samples from the survey using probabilities proportional to sampling weights."
   ]
  },
  {
   "cell_type": "code",
   "execution_count": 23,
   "metadata": {
    "collapsed": false
   },
   "outputs": [
    {
     "data": {
      "text/plain": [
       "array([ 0.10033854,  0.61147155,  0.71183061,  0.42039043,  0.79537224,\n",
       "        0.98759405,  0.67693887,  0.34326631])"
      ]
     },
     "execution_count": 23,
     "metadata": {},
     "output_type": "execute_result"
    }
   ],
   "source": [
    "np.random.random(8)"
   ]
  },
  {
   "cell_type": "markdown",
   "metadata": {},
   "source": [
    "##Exercise 10.9\n",
    "* compute linear least squares...\n",
    "* how would you best present estimated parameters when one variable is log-transformed?\n",
    "* if you wanted to guess someone's weight, how much would it help to know their height?\n",
    "\n",
    "* Weighting..."
   ]
  },
  {
   "cell_type": "code",
   "execution_count": 4,
   "metadata": {
    "collapsed": false
   },
   "outputs": [],
   "source": [
    "import brfss\n",
    "df = brfss.ReadBrfss()\n",
    "df = df.dropna(subset=['wtkg2','htm3'])"
   ]
  },
  {
   "cell_type": "code",
   "execution_count": 46,
   "metadata": {
    "collapsed": false
   },
   "outputs": [],
   "source": [
    "log_weights = np.log10(df.wtkg2)\n",
    "heights = df.htm3\n"
   ]
  },
  {
   "cell_type": "code",
   "execution_count": 47,
   "metadata": {
    "collapsed": false
   },
   "outputs": [
    {
     "name": "stdout",
     "output_type": "stream",
     "text": [
      "0.993080416392 0.00528145416942\n"
     ]
    },
    {
     "data": {
      "image/png": "[encoded data removed]",
      "text/plain": [
       "<matplotlib.figure.Figure at 0x116b4dbd0>"
      ]
     },
     "metadata": {},
     "output_type": "display_data"
    },
    {
     "data": {
      "text/plain": [
       "<matplotlib.figure.Figure at 0x10fdc7350>"
      ]
     },
     "metadata": {},
     "output_type": "display_data"
    }
   ],
   "source": [
    "thinkplot.Scatter(heights, log_weights, alpha=.01)\n",
    "inter, slope = thinkstats2.LeastSquares(heights, log_weights)\n",
    "print inter, slope\n",
    "xs, ys = thinkstats2.FitLine(heights, inter, slope)\n",
    "thinkplot.Plot(xs, ys)\n",
    "thinkplot.Show(xlabel=\"height cm\",\n",
    "               ylabel=\"log weight kg\",\n",
    "               title=\"Plotting log weight versus height\")"
   ]
  },
  {
   "cell_type": "markdown",
   "metadata": {},
   "source": [
    "I would calculate the weight for the mean height and report the slope as a parameter on an exponential function."
   ]
  },
  {
   "cell_type": "code",
   "execution_count": 48,
   "metadata": {
    "collapsed": false
   },
   "outputs": [
    {
     "data": {
      "image/png": "[encoded data removed]",
      "text/plain": [
       "<matplotlib.figure.Figure at 0x10fac8bd0>"
      ]
     },
     "metadata": {},
     "output_type": "display_data"
    },
    {
     "data": {
      "text/plain": [
       "<matplotlib.figure.Figure at 0x10c39f650>"
      ]
     },
     "metadata": {},
     "output_type": "display_data"
    }
   ],
   "source": [
    "## THIS IS MY WORK\n",
    "# sorted_heights = np.sort(heights)\n",
    "# ys = 10**(0.01216 * sorted_heights) + 2.28665\n",
    "# thinkplot.Scatter(heights, df.wtkg2)\n",
    "# thinkplot.Plot(sorted_heights, ys)\n",
    "# thinkplot.Show()\n",
    "\n",
    "##THIS IS THE ANSWER:\n",
    "thinkplot.Scatter(heights, 10**log_weights, alpha=0.01)\n",
    "fxs, fys = thinkstats2.FitLine(heights, inter, slope)\n",
    "thinkplot.Plot(fxs, 10**fys)\n",
    "thinkplot.Show(xlabel=\"heights cm\",\n",
    "               ylabel=\"weights kg\",\n",
    "               title=\"heights versus weights on linear scale\")\n"
   ]
  },
  {
   "cell_type": "code",
   "execution_count": 59,
   "metadata": {
    "collapsed": false
   },
   "outputs": [
    {
     "data": {
      "image/png": "[encoded data removed]",
      "text/plain": [
       "<matplotlib.figure.Figure at 0x10fae2090>"
      ]
     },
     "metadata": {},
     "output_type": "display_data"
    },
    {
     "data": {
      "text/plain": [
       "<matplotlib.figure.Figure at 0x10fad4310>"
      ]
     },
     "metadata": {},
     "output_type": "display_data"
    }
   ],
   "source": [
    "res = thinkstats2.Residuals(heights, log_weights, inter, slope)\n",
    "df['residuals'] = res\n",
    "\n",
    "def plotRes(heights, log_weights):\n",
    "    bins = np.arange(100,226, 5)\n",
    "    indices = np.digitize(heights, bins)\n",
    "    groups = df.groupby(indices)\n",
    "    heights = [group.htm3.mean() for _, group in groups]\n",
    "    cdfs = [thinkstats2.Cdf(group.residuals) for _, group in groups]\n",
    "    \n",
    "    thinkplot.PrePlot(3)\n",
    "    for percent in [75, 50, 25]:\n",
    "        log_weights = [cdf.Percentile(percent) for cdf in cdfs]\n",
    "        label = '%dth' % percent\n",
    "        thinkplot.Plot(heights, log_weights, label=label)\n",
    "    thinkplot.Show(title=\"Plotting Residual Weight Error\",\n",
    "                   xlabel=\"height cm\",\n",
    "                   ylabel=\"log10 weight kg\")\n",
    "plotRes(heights, log_weights)\n"
   ]
  },
  {
   "cell_type": "markdown",
   "metadata": {},
   "source": [
    "The model works well between heights of 140 cm and 190 cm.  Befor that and after that, the slopes are not flat, which indicates that the residuals may not be random and that there is nonlinearity.  All weight predictions for short people tend to be too high, and all predictions for taller people tend to be low.  The lines are close to parallel though, which indicates that the variance remains relatively constrant through the line.\n",
    "\n",
    "Between the indicated range, the model allows us to use height to predict weight to within 0.1 kg"
   ]
  },
  {
   "cell_type": "code",
   "execution_count": 60,
   "metadata": {
    "collapsed": false
   },
   "outputs": [
    {
     "name": "stdout",
     "output_type": "stream",
     "text": [
      "CoD using fn 0.282734943119\n",
      "rho: 0.531728260598\n",
      "r2 using rho 0.282734943119\n",
      "CoD - r2 (should be 0) 7.23310300543e-14\n"
     ]
    }
   ],
   "source": [
    "rho = thinkstats2.Corr(log_weights, heights)\n",
    "r2 = rho**2\n",
    "\n",
    "CoD = thinkstats2.CoefDetermination(log_weights, res)\n",
    "print \"CoD using fn\", CoD\n",
    "print \"rho:\", rho\n",
    "print \"r2 using rho\", r2\n",
    "print \"CoD - r2 (should be 0)\", CoD - r2"
   ]
  },
  {
   "cell_type": "code",
   "execution_count": 27,
   "metadata": {
    "collapsed": false
   },
   "outputs": [
    {
     "name": "stdout",
     "output_type": "stream",
     "text": [
      "std(res) 0.201263830065\n",
      "std(ys) 0.23764347603\n",
      "reduction in RMSE: 15.308498%\n"
     ]
    }
   ],
   "source": [
    "sRes = thinkstats2.Std(res)\n",
    "sYs = thinkstats2.Std(log_weights)\n",
    "print 'std(res)', sRes\n",
    "print 'std(ys)', sYs\n",
    "print 'reduction in RMSE: %f%%' % ((1 - sRes/sYs) * 100)"
   ]
  },
  {
   "cell_type": "markdown",
   "metadata": {},
   "source": [
    "If you want to guess somebody's height, knowing their height will only roughly account for their height. Using this model only accounts for about 15% of the variance about the mean height."
   ]
  },
  {
   "cell_type": "code",
   "execution_count": 80,
   "metadata": {
    "collapsed": false
   },
   "outputs": [
    {
     "data": {
      "text/plain": [
       "([170.53480264354576,\n",
       "  170.51314699165303,\n",
       "  170.52794114674913,\n",
       "  170.51467794417835,\n",
       "  170.46392156268317,\n",
       "  170.52448513510782,\n",
       "  170.51361941429698,\n",
       "  170.4983932577457,\n",
       "  170.48776753774328,\n",
       "  170.481077830999],\n",
       " [168.95522342812103,\n",
       "  168.96655146627862,\n",
       "  168.9508276238404,\n",
       "  168.96610935952626,\n",
       "  168.93446209503023,\n",
       "  168.95146425756383,\n",
       "  168.97149800925646,\n",
       "  168.9442894965541,\n",
       "  168.96733967945997,\n",
       "  168.98538016128055])"
      ]
     },
     "execution_count": 80,
     "metadata": {},
     "output_type": "execute_result"
    }
   ],
   "source": [
    "iters = 10\n",
    "HeightsWithW = [thinkstats2.ResampleRowsWeighted(df, column='finalwt')\n",
    "               .htm3.mean() for _ in range(iters)]      \n",
    "HeightsNoW = [thinkstats2.ResampleRows(df).htm3.mean()\n",
    "              for _ in range(iters)]\n",
    "\n",
    "HeightsWithW, HeightsNoW"
   ]
  },
  {
   "cell_type": "code",
   "execution_count": 81,
   "metadata": {
    "collapsed": false
   },
   "outputs": [
    {
     "name": "stdout",
     "output_type": "stream",
     "text": [
      "[168.95522342812103, 168.96655146627862, 168.9508276238404, 168.96610935952626, 168.93446209503023, 168.95146425756383, 168.97149800925646, 168.9442894965541, 168.96733967945997, 168.98538016128055]\n",
      "\t mean, stderr, 90% CI\n",
      "weighted 170.505983346 0.0214921844491 (170.46392156268317, 170.53480264354576)\n",
      "not wtd'd 168.959314558 0.0140875366964 (168.93446209503023, 168.98538016128055)\n"
     ]
    }
   ],
   "source": [
    "import estimation\n",
    "print HeightsNoW\n",
    "weight_mean = np.mean(HeightsWithW)\n",
    "nw_mean = np.mean(HeightsNoW)\n",
    "\n",
    "weight_stderr = estimation.RMSE(HeightsWithW, weight_mean)\n",
    "nw_stderr = estimation.RMSE(HeightsNoW, nw_mean)\n",
    "\n",
    "weight_cdf = thinkstats2.Cdf(HeightsWithW)\n",
    "nw_cdf = thinkstats2.Cdf(HeightsNoW)\n",
    "\n",
    "weight_ci = weight_cdf.Percentile(5), weight_cdf.Percentile(95)\n",
    "nw_ci = nw_cdf.Percentile(5), nw_cdf.Percentile(95)\n",
    "\n",
    "print '\\t mean, stderr, 90% CI'\n",
    "print 'weighted', weight_mean, weight_stderr, weight_ci\n",
    "print \"not wtd'd\", nw_mean, nw_stderr, nw_ci\n",
    "\n"
   ]
  },
  {
   "cell_type": "code",
   "execution_count": 84,
   "metadata": {
    "collapsed": false
   },
   "outputs": [
    {
     "name": "stdout",
     "output_type": "stream",
     "text": [
      "mean, SE, CI 170.505983346 0.0214921844491 (170.46392156268317, 170.53480264354576)\n",
      "mean, SE, CI 168.959314558 0.0140875366964 (168.93446209503023, 168.98538016128055)\n"
     ]
    }
   ],
   "source": [
    "import linear\n",
    "linear.Summarize(HeightsWithW)\n",
    "linear.Summarize(HeightsNoW)"
   ]
  },
  {
   "cell_type": "code",
   "execution_count": null,
   "metadata": {
    "collapsed": true
   },
   "outputs": [],
   "source": []
  }
 ],
 "metadata": {
  "kernelspec": {
   "display_name": "Python 2",
   "language": "python",
   "name": "python2"
  }
 },
 "nbformat": 4,
 "nbformat_minor": 0
}
