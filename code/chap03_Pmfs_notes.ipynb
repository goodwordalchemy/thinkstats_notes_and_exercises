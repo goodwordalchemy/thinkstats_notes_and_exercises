{
 "cells": [
  {
   "cell_type": "code",
   "execution_count": 16,
   "metadata": {
    "collapsed": true
   },
   "outputs": [],
   "source": [
    "import math\n",
    "import numpy as np\n",
    "\n",
    "import nsfg\n",
    "import first\n",
    "import thinkstats2\n",
    "import thinkplot\n",
    "\n",
    "from collections import defaultdict"
   ]
  },
  {
   "cell_type": "markdown",
   "metadata": {},
   "source": [
    "**probability mass function** - maps each value to its probability.  Alows you to compare two distributions independently from sample size.\n",
    "\n",
    "**probability** - frequency expressed as a fraction of the sample size, n.\n",
    "\n",
    "**normalization** - dividing frequencies by n.\n",
    "\n",
    "given a Hist, we can make a dictionary that maps each value to its probability:\n",
    "\n",
    "```\n",
    "n = hist.Total()\n",
    "d = {}\n",
    "or x, freq in hist.Items():\n",
    "    d[x] = freq/n\n",
    "```"
   ]
  },
  {
   "cell_type": "code",
   "execution_count": 2,
   "metadata": {
    "collapsed": false
   },
   "outputs": [
    {
     "name": "stdout",
     "output_type": "stream",
     "text": [
      "[(1, 0.2), (2, 0.4), (3, 0.2), (5, 0.2)]\n",
      "[1, 2, 3, 5]\n",
      "0.4\n",
      "0.4\n",
      "0.6\n",
      "0.3\n",
      "0.9\n",
      "0.9\n",
      "1.0\n"
     ]
    }
   ],
   "source": [
    "import thinkstats2\n",
    "pmf = thinkstats2.Pmf([1,2,2,3,5])\n",
    "\n",
    "#getting pmf values\n",
    "print pmf.Items()\n",
    "print pmf.Values()\n",
    "print pmf.Prob(2)\n",
    "print pmf[2]\n",
    "\n",
    "#modifying pmf values\n",
    "pmf.Incr(2, 0.2)\n",
    "print pmf.Prob(2)\n",
    "\n",
    "pmf.Mult(2, 0.5)\n",
    "print pmf.Prob(2)\n",
    "\n",
    "#if you modify, probabilities may no longer add up to 1\n",
    "#to check:\n",
    "print pmf.Total()\n",
    "\n",
    "print pmf.Normalize()\n",
    "print pmf.Total()\n",
    "\n",
    "#Copy method is also available"
   ]
  },
  {
   "cell_type": "markdown",
   "metadata": {},
   "source": [
    "To plot a PMF:\n",
    "*  bargraph using `thinkplot.Hist`\n",
    "*  as step function: `thinkplot.Pmf`--for use when large number of smooth values."
   ]
  },
  {
   "cell_type": "code",
   "execution_count": 3,
   "metadata": {
    "collapsed": false
   },
   "outputs": [
    {
     "name": "stderr",
     "output_type": "stream",
     "text": [
      "nsfg.py:42: SettingWithCopyWarning: \n",
      "A value is trying to be set on a copy of a slice from a DataFrame\n",
      "\n",
      "See the the caveats in the documentation: http://pandas.pydata.org/pandas-docs/stable/indexing.html#indexing-view-versus-copy\n",
      "  df.birthwgt_lb[df.birthwgt_lb > 20] = np.nan\n"
     ]
    }
   ],
   "source": [
    "from probability import *\n",
    "live, firsts, others = first.MakeFrames()\n",
    "\n",
    "first_pmf = thinkstats2.Pmf(firsts.prglngth, label=\"firsts\")\n",
    "other_pmf = thinkstats2.Pmf(others.prglngth, label=\"others\")\n",
    "width = 0.45\n",
    "\n",
    "#cols option makes grid of figures.\n",
    "thinkplot.PrePlot(2, cols=2)\n",
    "thinkplot.Hist(first_pmf, align='right', width=width)\n",
    "thinkplot.Hist(other_pmf, align='left', width=width)\n",
    "thinkplot.Config(xlabel='weeks',\n",
    "                 ylabel='probability',\n",
    "                 axis=[27,46,0,0.6])\n",
    "\n",
    "#second call to preplot resets the color generator\n",
    "thinkplot.PrePlot(2)\n",
    "thinkplot.SubPlot(2)\n",
    "thinkplot.Pmfs([first_pmf, other_pmf])\n",
    "thinkplot.Config(xlabel='weeks',\n",
    "                 ylabel='probability',\n",
    "                 axis=[27,46,0,0.6])\n",
    "thinkplot.Show()"
   ]
  },
  {
   "cell_type": "markdown",
   "metadata": {},
   "source": [
    "Good idea to zoom in on the mode, where the biggest differences occur:"
   ]
  },
  {
   "cell_type": "code",
   "execution_count": 4,
   "metadata": {
    "collapsed": false
   },
   "outputs": [
    {
     "name": "stderr",
     "output_type": "stream",
     "text": [
      "/Users/davidgoldberg/anaconda/lib/python2.7/site-packages/matplotlib/axes/_axes.py:475: UserWarning: No labelled objects found. Use label='...' kwarg on individual plots.\n",
      "  warnings.warn(\"No labelled objects found. \"\n"
     ]
    }
   ],
   "source": [
    "weeks = range(35, 46)\n",
    "diffs = []\n",
    "for week in weeks:\n",
    "    p1 = first_pmf.Prob(week)\n",
    "    p2 = other_pmf.Prob(week)\n",
    "    #diff between two points in percentage points\n",
    "    diff = 100 * (p1 - p2)\n",
    "    diffs.append(diff)\n",
    "    \n",
    "thinkplot.Bar(weeks, diffs)\n",
    "thinkplot.Config(title=\"Difference in PMFs\",\n",
    "               xlabel=\"weeks\",\n",
    "               ylabel=\"percentage points\")\n",
    "thinkplot.Show()"
   ]
  },
  {
   "cell_type": "markdown",
   "metadata": {},
   "source": [
    "##Class Size Paradox"
   ]
  },
  {
   "cell_type": "code",
   "execution_count": 6,
   "metadata": {
    "collapsed": false
   },
   "outputs": [
    {
     "name": "stdout",
     "output_type": "stream",
     "text": [
      "('mean', 23.692307692307693)\n"
     ]
    }
   ],
   "source": [
    "d = {7:8, 12:8, 17:14, 22:4, 27:6, \n",
    "     32:12, 37:8, 42:3, 47:2}\n",
    "pmf = thinkstats2.Pmf(d, label='actual')\n",
    "print ('mean', pmf.Mean())"
   ]
  },
  {
   "cell_type": "markdown",
   "metadata": {},
   "source": [
    "For each class size, x, in the following funtion, we multiply the probability by x, the number of students who observe that class size.  This gives a **biased distribution**"
   ]
  },
  {
   "cell_type": "code",
   "execution_count": 11,
   "metadata": {
    "collapsed": false
   },
   "outputs": [
    {
     "name": "stdout",
     "output_type": "stream",
     "text": [
      " actual mean 23.6923076923\n",
      "biased mean 29.1233766234\n"
     ]
    }
   ],
   "source": [
    "def BiasPmf(pmf, label):\n",
    "    new_pmf = pmf.Copy(label=label)\n",
    "    \n",
    "    for x, p in pmf.Items():\n",
    "        new_pmf.Mult(x, x)\n",
    "        \n",
    "    new_pmf.Normalize()\n",
    "    return new_pmf\n",
    "\n",
    "thinkplot.PrePlot(2)\n",
    "biased_pmf = BiasPmf(pmf, label=\"observed\")\n",
    "thinkplot.Pmfs([pmf, biased_pmf])\n",
    "thinkplot.Config(root='class_size1',\n",
    "               xlabel='class size',\n",
    "               ylabel='PMF',\n",
    "               axis=[0, 52, 0, 0.27])\n",
    "# thinkplot.Show()\n",
    "\n",
    "print \"actual mean\", pmf.Mean()\n",
    "print \"biased mean\", biased_pmf.Mean()"
   ]
  },
  {
   "cell_type": "markdown",
   "metadata": {},
   "source": [
    "**Conclusion:** the students are biased because the amount of students in a large class is large, so students who are taking multiple classes are likely taking at least one of these classes, which offsets their personal average class size from the actual.\n",
    "\n",
    "Think of it this way: if you had one of each class size in range of class sizes from 1 to 10, the average size of the classes would be 5, but far more people would report being in a larger class than being in a smaller class.\n",
    "\n",
    "this can be corrected, however..."
   ]
  },
  {
   "cell_type": "code",
   "execution_count": 14,
   "metadata": {
    "collapsed": false
   },
   "outputs": [
    {
     "name": "stdout",
     "output_type": "stream",
     "text": [
      " unbiased mean: 23.6923076923\n"
     ]
    }
   ],
   "source": [
    "def UnbiasPmf(pmf, label):\n",
    "    new_pmf = pmf.Copy(label=label)\n",
    "    \n",
    "    for x, p in pmf.Items():\n",
    "        new_pmf.Mult(x, 1.0 / x)\n",
    "    new_pmf.Normalize()\n",
    "    return new_pmf\n",
    "print 'unbiased mean:', UnbiasPmf(biased_pmf, \"unbiased\").Mean()"
   ]
  },
  {
   "cell_type": "markdown",
   "metadata": {},
   "source": [
    "##DataFrame indexing:"
   ]
  },
  {
   "cell_type": "code",
   "execution_count": 19,
   "metadata": {
    "collapsed": false
   },
   "outputs": [
    {
     "data": {
      "text/html": [
       "<div>\n",
       "<table border=\"1\" class=\"dataframe\">\n",
       "  <thead>\n",
       "    <tr style=\"text-align: right;\">\n",
       "      <th></th>\n",
       "      <th>0</th>\n",
       "      <th>1</th>\n",
       "    </tr>\n",
       "  </thead>\n",
       "  <tbody>\n",
       "    <tr>\n",
       "      <th>0</th>\n",
       "      <td>-0.599691</td>\n",
       "      <td>0.435165</td>\n",
       "    </tr>\n",
       "    <tr>\n",
       "      <th>1</th>\n",
       "      <td>-0.694101</td>\n",
       "      <td>1.227066</td>\n",
       "    </tr>\n",
       "    <tr>\n",
       "      <th>2</th>\n",
       "      <td>-0.230580</td>\n",
       "      <td>0.579704</td>\n",
       "    </tr>\n",
       "    <tr>\n",
       "      <th>3</th>\n",
       "      <td>-0.129657</td>\n",
       "      <td>0.736377</td>\n",
       "    </tr>\n",
       "  </tbody>\n",
       "</table>\n",
       "</div>"
      ],
      "text/plain": [
       "          0         1\n",
       "0 -0.599691  0.435165\n",
       "1 -0.694101  1.227066\n",
       "2 -0.230580  0.579704\n",
       "3 -0.129657  0.736377"
      ]
     },
     "execution_count": 19,
     "metadata": {},
     "output_type": "execute_result"
    }
   ],
   "source": [
    "import numpy as np\n",
    "import pandas\n",
    "array = np.random.randn(4,2)\n",
    "\n",
    "df = pandas.DataFrame(array)\n",
    "df"
   ]
  },
  {
   "cell_type": "code",
   "execution_count": 21,
   "metadata": {
    "collapsed": false
   },
   "outputs": [
    {
     "data": {
      "text/html": [
       "<div>\n",
       "<table border=\"1\" class=\"dataframe\">\n",
       "  <thead>\n",
       "    <tr style=\"text-align: right;\">\n",
       "      <th></th>\n",
       "      <th>A</th>\n",
       "      <th>B</th>\n",
       "    </tr>\n",
       "  </thead>\n",
       "  <tbody>\n",
       "    <tr>\n",
       "      <th>0</th>\n",
       "      <td>-0.599691</td>\n",
       "      <td>0.435165</td>\n",
       "    </tr>\n",
       "    <tr>\n",
       "      <th>1</th>\n",
       "      <td>-0.694101</td>\n",
       "      <td>1.227066</td>\n",
       "    </tr>\n",
       "    <tr>\n",
       "      <th>2</th>\n",
       "      <td>-0.230580</td>\n",
       "      <td>0.579704</td>\n",
       "    </tr>\n",
       "    <tr>\n",
       "      <th>3</th>\n",
       "      <td>-0.129657</td>\n",
       "      <td>0.736377</td>\n",
       "    </tr>\n",
       "  </tbody>\n",
       "</table>\n",
       "</div>"
      ],
      "text/plain": [
       "          A         B\n",
       "0 -0.599691  0.435165\n",
       "1 -0.694101  1.227066\n",
       "2 -0.230580  0.579704\n",
       "3 -0.129657  0.736377"
      ]
     },
     "execution_count": 21,
     "metadata": {},
     "output_type": "execute_result"
    }
   ],
   "source": [
    "columns = ['A','B']\n",
    "df = pandas.DataFrame(array, columns=columns)\n",
    "df"
   ]
  },
  {
   "cell_type": "code",
   "execution_count": 25,
   "metadata": {
    "collapsed": false
   },
   "outputs": [
    {
     "data": {
      "text/html": [
       "<div>\n",
       "<table border=\"1\" class=\"dataframe\">\n",
       "  <thead>\n",
       "    <tr style=\"text-align: right;\">\n",
       "      <th></th>\n",
       "      <th>A</th>\n",
       "      <th>B</th>\n",
       "    </tr>\n",
       "  </thead>\n",
       "  <tbody>\n",
       "    <tr>\n",
       "      <th>a</th>\n",
       "      <td>-0.599691</td>\n",
       "      <td>0.435165</td>\n",
       "    </tr>\n",
       "    <tr>\n",
       "      <th>b</th>\n",
       "      <td>-0.694101</td>\n",
       "      <td>1.227066</td>\n",
       "    </tr>\n",
       "    <tr>\n",
       "      <th>c</th>\n",
       "      <td>-0.230580</td>\n",
       "      <td>0.579704</td>\n",
       "    </tr>\n",
       "    <tr>\n",
       "      <th>d</th>\n",
       "      <td>-0.129657</td>\n",
       "      <td>0.736377</td>\n",
       "    </tr>\n",
       "  </tbody>\n",
       "</table>\n",
       "</div>"
      ],
      "text/plain": [
       "          A         B\n",
       "a -0.599691  0.435165\n",
       "b -0.694101  1.227066\n",
       "c -0.230580  0.579704\n",
       "d -0.129657  0.736377"
      ]
     },
     "execution_count": 25,
     "metadata": {},
     "output_type": "execute_result"
    }
   ],
   "source": [
    "index = ['a','b','c','d']\n",
    "df = pandas.DataFrame(array, columns=columns, index=index)\n",
    "df"
   ]
  },
  {
   "cell_type": "code",
   "execution_count": 26,
   "metadata": {
    "collapsed": false
   },
   "outputs": [
    {
     "data": {
      "text/plain": [
       "A   -0.599691\n",
       "B    0.435165\n",
       "Name: a, dtype: float64"
      ]
     },
     "execution_count": 26,
     "metadata": {},
     "output_type": "execute_result"
    }
   ],
   "source": [
    "#to select a row by label, use loc, \n",
    "#which returns a series\n",
    "df.loc['a']"
   ]
  },
  {
   "cell_type": "code",
   "execution_count": 27,
   "metadata": {
    "collapsed": false
   },
   "outputs": [
    {
     "data": {
      "text/plain": [
       "A   -0.599691\n",
       "B    0.435165\n",
       "Name: a, dtype: float64"
      ]
     },
     "execution_count": 27,
     "metadata": {},
     "output_type": "execute_result"
    }
   ],
   "source": [
    "#iloc finds a row by integer position of the row\n",
    "df.iloc[0]"
   ]
  },
  {
   "cell_type": "code",
   "execution_count": 28,
   "metadata": {
    "collapsed": false
   },
   "outputs": [
    {
     "data": {
      "text/html": [
       "<div>\n",
       "<table border=\"1\" class=\"dataframe\">\n",
       "  <thead>\n",
       "    <tr style=\"text-align: right;\">\n",
       "      <th></th>\n",
       "      <th>A</th>\n",
       "      <th>B</th>\n",
       "    </tr>\n",
       "  </thead>\n",
       "  <tbody>\n",
       "    <tr>\n",
       "      <th>a</th>\n",
       "      <td>-0.599691</td>\n",
       "      <td>0.435165</td>\n",
       "    </tr>\n",
       "    <tr>\n",
       "      <th>c</th>\n",
       "      <td>-0.230580</td>\n",
       "      <td>0.579704</td>\n",
       "    </tr>\n",
       "  </tbody>\n",
       "</table>\n",
       "</div>"
      ],
      "text/plain": [
       "          A         B\n",
       "a -0.599691  0.435165\n",
       "c -0.230580  0.579704"
      ]
     },
     "execution_count": 28,
     "metadata": {},
     "output_type": "execute_result"
    }
   ],
   "source": [
    "#loc can also take a list of labels\n",
    "#in this case it returns a df\n",
    "indices = ['a','c']\n",
    "df.loc[indices]"
   ]
  },
  {
   "cell_type": "code",
   "execution_count": 32,
   "metadata": {
    "collapsed": false
   },
   "outputs": [
    {
     "name": "stdout",
     "output_type": "stream",
     "text": [
      "          A         B\n",
      "a -0.599691  0.435165\n",
      "b -0.694101  1.227066\n",
      "c -0.230580  0.579704\n"
     ]
    },
    {
     "data": {
      "text/html": [
       "<div>\n",
       "<table border=\"1\" class=\"dataframe\">\n",
       "  <thead>\n",
       "    <tr style=\"text-align: right;\">\n",
       "      <th></th>\n",
       "      <th>A</th>\n",
       "      <th>B</th>\n",
       "    </tr>\n",
       "  </thead>\n",
       "  <tbody>\n",
       "    <tr>\n",
       "      <th>a</th>\n",
       "      <td>-0.599691</td>\n",
       "      <td>0.435165</td>\n",
       "    </tr>\n",
       "    <tr>\n",
       "      <th>b</th>\n",
       "      <td>-0.694101</td>\n",
       "      <td>1.227066</td>\n",
       "    </tr>\n",
       "  </tbody>\n",
       "</table>\n",
       "</div>"
      ],
      "text/plain": [
       "          A         B\n",
       "a -0.599691  0.435165\n",
       "b -0.694101  1.227066"
      ]
     },
     "execution_count": 32,
     "metadata": {},
     "output_type": "execute_result"
    }
   ],
   "source": [
    "#slicing\n",
    "#NOTE: first slice method selects inclusively\n",
    "print df['a':'c']\n",
    "df[0:2]"
   ]
  },
  {
   "cell_type": "markdown",
   "metadata": {},
   "source": [
    "##Exercise 3.2\n",
    "\n",
    "PMFs can be used to **calculate probability**:  \n",
    "$$\n",
    "\\bar{x} = \\sum_{i}p_ix_i\n",
    "$$\n",
    "\n",
    "where $x_i$ are the unique values in the PMF and $p_i = PMF(x_i)$\n",
    "\n",
    "**Variance** can also be calulated:\n",
    "\n",
    "$$\n",
    "S^2 = \\sum_{i}p_i(x_i -\\bar{x})^2\n",
    "$$\n",
    "\n",
    "Write functions `PmfMean` and `PmfVar` that take a Pmf object and compute the mean and variance.\n"
   ]
  },
  {
   "cell_type": "code",
   "execution_count": 37,
   "metadata": {
    "collapsed": false
   },
   "outputs": [
    {
     "name": "stdout",
     "output_type": "stream",
     "text": [
      " my Mean: 23.6923076923\n",
      "answer mean: 23.6923076923\n",
      "my Variance: 128.674556213\n",
      "answer variance: 128.674556213\n"
     ]
    }
   ],
   "source": [
    "def PmfMean(pmf):\n",
    "    mean = 0\n",
    "    for key, prob in pmf.Items():\n",
    "        mean += key * prob\n",
    "    return mean\n",
    "\n",
    "def PmfVar(pmf):\n",
    "    mean = PmfMean(pmf)\n",
    "    var = 0\n",
    "    for key, prob in pmf.Items():\n",
    "        var += prob * (key - mean) ** 2\n",
    "    return var\n",
    "\n",
    "print \"my Mean:\", PmfMean(pmf)\n",
    "print \"answer mean:\", pmf.Mean()\n",
    "print \"my Variance:\", PmfVar(pmf)\n",
    "print \"answer variance:\", pmf.Var()"
   ]
  },
  {
   "cell_type": "markdown",
   "metadata": {},
   "source": [
    "## Exercise 3.3"
   ]
  },
  {
   "cell_type": "code",
   "execution_count": 6,
   "metadata": {
    "collapsed": false
   },
   "outputs": [],
   "source": [
    "\n",
    "df = nsfg.ReadFemPreg()\n",
    "pregMap = nsfg.MakePregMap(df[df.outcome==1])\n"
   ]
  },
  {
   "cell_type": "code",
   "execution_count": 29,
   "metadata": {
    "collapsed": false
   },
   "outputs": [
    {
     "name": "stdout",
     "output_type": "stream",
     "text": [
      "Hist({0: 2543, 1: 327, 2: 353, 3: 156, 4: 150, 5: 66, 6: 34, 7: 22, 8: 17, 9: 36, 10: 16, 11: 6, 12: 3, 13: 8, 14: 3, 15: 4, 16: 1, 17: 3, 19: 2, 20: 1, 22: 1, 25: 1, 26: 1, 31: 1, 35: 1, -1: 247, -39: 1, -16: 1, -15: 4, -14: 1, -13: 14, -12: 8, -11: 9, -10: 13, -9: 55, -8: 22, -7: 25, -6: 30, -5: 37, -4: 181, -3: 94, -2: 237})\n"
     ]
    }
   ],
   "source": [
    "lengthDiffs = []\n",
    "for caseid, pregList in pregMap.iteritems():\n",
    "    first = df[df.index==pregList[0]].prglngth\n",
    "    first = int(first)\n",
    "    for idx in pregList[1:]:\n",
    "        \n",
    "        other = df[df.index==idx].prglngth\n",
    "        other = int(other)\n",
    "        diff = first - other\n",
    "        lengthDiffs.append(diff)\n",
    "diffHist = thinkstats2.Hist(lengthDiffs)\n",
    "print diffHist\n",
    "        "
   ]
  },
  {
   "cell_type": "code",
   "execution_count": 41,
   "metadata": {
    "collapsed": false
   },
   "outputs": [],
   "source": [
    "diffPmf = thinkstats2.Pmf(lengthDiffs)\n",
    "thinkplot.PrePlot(2, cols=2)\n",
    "thinkplot.SubPlot(1)\n",
    "thinkplot.Hist(diffHist, label='')\n",
    "thinkplot.Config(title=\"Differences (weeks) between first baby and other babies \\n born to same mother\",\n",
    "                 xlabel = 'first_preg_lngth - other_preg_lngth (weeks)',\n",
    "                 ylabel = 'freq')\n",
    "\n",
    "thinkplot.SubPlot(2)\n",
    "thinkplot.Hist(diffPmf, label='')\n",
    "thinkplot.Config(title=\"Differences (weeks) between first baby and other babies \\n born to same mother\",\n",
    "                 xlabel = 'first_preg_lngth - other_preg_lngth (weeks)',\n",
    "                 ylabel = 'freq')\n",
    "thinkplot.Show()"
   ]
  },
  {
   "cell_type": "markdown",
   "metadata": {},
   "source": [
    "##Exercise 3.4"
   ]
  },
  {
   "cell_type": "code",
   "execution_count": 56,
   "metadata": {
    "collapsed": false
   },
   "outputs": [
    {
     "name": "stdout",
     "output_type": "stream",
     "text": [
      "[Pmf({0: 0.5283630470016207, 1: 0.06645056726094004, 2: 0.07779578606158832, 3: 0.03322528363047002, 4: 0.031604538087520256, 5: 0.013776337115072933, 6: 0.006482982171799027, 7: 0.00486223662884927, 8: 0.002431118314424635, 9: 0.006482982171799027, 10: 0.006482982171799027, 11: 0.002431118314424635, 13: 0.0016207455429497568, 14: 0.0008103727714748784, 15: 0.0008103727714748784, 16: 0.0008103727714748784, 17: 0.0008103727714748784, 22: 0.0008103727714748784, 26: 0.0008103727714748784, -2: 0.0486223662884927, -15: 0.0008103727714748784, -13: 0.004051863857374392, -11: 0.0016207455429497568, -10: 0.002431118314424635, -9: 0.01458670988654781, -8: 0.004051863857374392, -7: 0.005672609400324149, -6: 0.008914100486223663, -5: 0.007293354943273905, -4: 0.03889789303079416, -3: 0.02106969205834684, -1: 0.055105348460291734}), Pmf({0: 0.5724465558194775, 1: 0.04750593824228029, 2: 0.06888361045130642, 3: 0.052256532066508314, 4: 0.019002375296912115, 5: 0.011876484560570073, 6: 0.004750593824228029, 7: 0.007125890736342043, 8: 0.0023752969121140144, 9: 0.009501187648456057, 10: 0.004750593824228029, 11: 0.004750593824228029, 15: 0.0023752969121140144, 19: 0.0023752969121140144, 20: 0.0023752969121140144, -13: 0.004750593824228029, -1: 0.052256532066508314, -10: 0.004750593824228029, -9: 0.007125890736342043, -8: 0.009501187648456057, -7: 0.009501187648456057, -6: 0.004750593824228029, -5: 0.007125890736342043, -4: 0.040380047505938245, -3: 0.0166270783847981, -2: 0.030878859857482188}), Pmf({0: 0.5793650793650793, 1: 0.015873015873015872, 2: 0.047619047619047616, 3: 0.03968253968253968, 4: 0.031746031746031744, 5: 0.023809523809523808, 6: 0.023809523809523808, 7: 0.007936507936507936, 8: 0.023809523809523808, -12: 0.007936507936507936, -1: 0.06349206349206349, -9: 0.007936507936507936, -7: 0.007936507936507936, -6: 0.007936507936507936, -4: 0.05555555555555555, -3: 0.031746031746031744, -2: 0.023809523809523808}), Pmf({0: 0.7000000000000001, 1: 0.02, 2: 0.08, 7: 0.02, -12: 0.02, -2: 0.04, -9: 0.02, -5: 0.02, -4: 0.02, -3: 0.02, -1: 0.02, 31: 0.02}), Pmf({0: 0.65, 1: 0.05, 2: 0.15000000000000002, 3: 0.05, 7: 0.05, -4: 0.05})]\n"
     ]
    }
   ],
   "source": [
    "pwDiff = defaultdict(list)\n",
    "for caseid, pregList in pregMap.iteritems():\n",
    "    first = df[df.index==pregList[0]].prglngth\n",
    "    first = int(first)\n",
    "    for i,idx in enumerate(pregList[1:]):\n",
    "        \n",
    "        other = df[df.index==idx].prglngth\n",
    "        other = int(other)\n",
    "        diff = first - other\n",
    " \n",
    "        pwDiff[i + 1].append(diff)\n",
    "    \n",
    "pmf_s = []\n",
    "for i in range(1,6):\n",
    "    diff_pmf = thinkstats2.Pmf(pwDiff[i + 1], label='diff to kid num %d' % i)\n",
    "    pmf_s.append(diff_pmf)\n",
    "    "
   ]
  },
  {
   "cell_type": "code",
   "execution_count": 58,
   "metadata": {
    "collapsed": false
   },
   "outputs": [
    {
     "ename": "KeyboardInterrupt",
     "evalue": "",
     "output_type": "error",
     "traceback": [
      "\u001b[0;31m---------------------------------------------------------------------------\u001b[0m",
      "\u001b[0;31mKeyboardInterrupt\u001b[0m                         Traceback (most recent call last)",
      "\u001b[0;32m/Users/davidgoldberg/anaconda/lib/python2.7/site-packages/matplotlib/backend_bases.pyc\u001b[0m in \u001b[0;36menter_notify_event\u001b[0;34m(self, guiEvent, xy)\u001b[0m\n\u001b[1;32m   1950\u001b[0m         \u001b[0mself\u001b[0m\u001b[0;34m.\u001b[0m\u001b[0m_lastx\u001b[0m\u001b[0;34m,\u001b[0m \u001b[0mself\u001b[0m\u001b[0;34m.\u001b[0m\u001b[0m_lasty\u001b[0m \u001b[0;34m=\u001b[0m \u001b[0mNone\u001b[0m\u001b[0;34m,\u001b[0m \u001b[0mNone\u001b[0m\u001b[0;34m\u001b[0m\u001b[0m\n\u001b[1;32m   1951\u001b[0m \u001b[0;34m\u001b[0m\u001b[0m\n\u001b[0;32m-> 1952\u001b[0;31m     \u001b[0;32mdef\u001b[0m \u001b[0menter_notify_event\u001b[0m\u001b[0;34m(\u001b[0m\u001b[0mself\u001b[0m\u001b[0;34m,\u001b[0m \u001b[0mguiEvent\u001b[0m\u001b[0;34m=\u001b[0m\u001b[0mNone\u001b[0m\u001b[0;34m,\u001b[0m \u001b[0mxy\u001b[0m\u001b[0;34m=\u001b[0m\u001b[0mNone\u001b[0m\u001b[0;34m)\u001b[0m\u001b[0;34m:\u001b[0m\u001b[0;34m\u001b[0m\u001b[0m\n\u001b[0m\u001b[1;32m   1953\u001b[0m         \"\"\"\n\u001b[1;32m   1954\u001b[0m         \u001b[0mBackend\u001b[0m \u001b[0mderived\u001b[0m \u001b[0mclasses\u001b[0m \u001b[0mshould\u001b[0m \u001b[0mcall\u001b[0m \u001b[0mthis\u001b[0m \u001b[0mfunction\u001b[0m \u001b[0mwhen\u001b[0m \u001b[0mentering\u001b[0m\u001b[0;34m\u001b[0m\u001b[0m\n",
      "\u001b[0;31mKeyboardInterrupt\u001b[0m: "
     ]
    }
   ],
   "source": [
    "thinkplot.Pmfs(pmf_s)\n",
    "thinkplot.Config(axis=[-10,10,0,1])\n",
    "thinkplot.Show()"
   ]
  },
  {
   "cell_type": "markdown",
   "metadata": {},
   "source": [
    "##Exercise 3.4\n",
    "\n",
    "Write a function called `ObservedPmf` that takes a Pmf representing the actual distribution of runners' speeds and the speed of the running observer and returns a new PMF representing the distribution of runner's speeds as seen by the observer."
   ]
  },
  {
   "cell_type": "code",
   "execution_count": 63,
   "metadata": {
    "collapsed": false
   },
   "outputs": [],
   "source": [
    "import relay\n",
    "\n",
    "def ObservedPmf(pmf, runnerSpeed, label):\n",
    "    new_pmf = pmf.Copy(label=label)\n",
    "    \n",
    "    for x,p in pmf.Items():\n",
    "        diff = abs(runnerSpeed - x)\n",
    "        #if runner speed is very large wrt x, likely to pass that runner\n",
    "        #else likely to be passed by that runnner\n",
    "        #not likely to see those in between.\n",
    "        new_pmf.Mult(x, diff)\n",
    "    \n",
    "    new_pmf.Normalize()\n",
    "    return new_pmf\n",
    "\n",
    "results = relay.ReadResults() \n",
    "speeds = relay.GetSpeeds(results)\n",
    "speeds = relay.BinData(speeds, 3, 12, 100)\n",
    "pmf = thinkstats2.Pmf(speeds, 'unbiased speeds')\n",
    "thinkplot.PrePlot(2)\n",
    "\n",
    "thinkplot.Pmf(pmf)\n",
    "\n",
    "biased_pmf = ObservedPmf(pmf, 7.5, 'biased at 7.5 mph')\n",
    "\n",
    "thinkplot.Pmf(biased_pmf)\n",
    "thinkplot.Config(title='PMF of running speed',\n",
    "                   xlabel='speed (mph)',\n",
    "                   ylabel='probability')\n",
    "thinkplot.Show()"
   ]
  },
  {
   "cell_type": "code",
   "execution_count": null,
   "metadata": {
    "collapsed": true
   },
   "outputs": [],
   "source": []
  }
 ],
 "metadata": {
  "kernelspec": {
   "display_name": "Python 2",
   "language": "python",
   "name": "python2"
  },
  "language_info": {
   "codemirror_mode": {
    "name": "ipython",
    "version": 2
   },
   "file_extension": ".py",
   "mimetype": "text/x-python",
   "name": "python",
   "nbconvert_exporter": "python",
   "pygments_lexer": "ipython2",
   "version": "2.7.10"
  }
 },
 "nbformat": 4,
 "nbformat_minor": 0
}
