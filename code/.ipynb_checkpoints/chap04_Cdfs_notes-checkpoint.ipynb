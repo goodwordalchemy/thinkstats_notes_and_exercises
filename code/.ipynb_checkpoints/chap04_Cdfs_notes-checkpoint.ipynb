{
 "cells": [
  {
   "cell_type": "code",
   "execution_count": 12,
   "metadata": {
    "collapsed": true
   },
   "outputs": [],
   "source": [
    "%matplotlib inline\n",
    "import first\n",
    "import thinkstats2\n",
    "import thinkplot\n",
    "import numpy as np"
   ]
  },
  {
   "cell_type": "markdown",
   "metadata": {},
   "source": [
    "PMFs are fine, but as the number of values becomes very large, the probability associated with each value gets smaller and the effect of random noise increases.\n"
   ]
  },
  {
   "cell_type": "code",
   "execution_count": 2,
   "metadata": {
    "collapsed": false
   },
   "outputs": [],
   "source": [
    "def PercentileRank(scores, your_score):\n",
    "    count = 0\n",
    "    for score in scores:\n",
    "        if score <= youre_score:\n",
    "            count += 1\n",
    "    percentile_rank = 100.0 * count / len(scores)\n",
    "    return percentile_rank\n",
    "\n",
    "def Percentile(scores, percentile_rank):\n",
    "    scores.sort()\n",
    "    for score in scores:\n",
    "        if PercentileRank(scores, score) >= percentile_rank:\n",
    "            return score\n",
    "\n",
    "## this is much more efficient\n",
    "## uses percentile rank to compute the index\n",
    "## of the corresponding percentile\n",
    "def Percentile2(scores, percentile_rank):\n",
    "    scores.sort()\n",
    "    index = percentile_rank * (len(scores) - 1) // 100\n",
    "    return scores[index]"
   ]
  },
  {
   "cell_type": "markdown",
   "metadata": {},
   "source": [
    "**percentile rank** - takes a value and computes its percentile rank in a set of values.\n",
    "\n",
    "**percentile** - takes a percentile rank and computes the corresponding value.\n",
    "\n",
    "**Cumulative Distribution Function** - maps from a value to its percentile rank.  CDF(x) is the fraction of values in the distribution less than or equal to x."
   ]
  },
  {
   "cell_type": "code",
   "execution_count": 3,
   "metadata": {
    "collapsed": true
   },
   "outputs": [],
   "source": [
    "def EvalCdf(sample, x):\n",
    "    count = 0.0\n",
    "    for value in sample:\n",
    "        if value <= x:\n",
    "            count += 1\n",
    "    prob = count / len(sample)\n",
    "    return prob"
   ]
  },
  {
   "cell_type": "markdown",
   "metadata": {},
   "source": [
    "Why is this reported as a probability in the range of 0 to 1?\n",
    "\n",
    "*  for one thing, you ca evaluate values that aren't in the sample.\n",
    "\n",
    "####Representing CDFs:\n",
    "`Prob(x)` -- given a value x, computes the p = CDF(x).  Bracket operator does same thing.\n",
    "\n",
    "`Value(p)` -- Given a probability, p, computes the corresponding value.\n",
    "\n",
    "`PercentileRank(x)` -- Given a value x, coputes its percentile rank, 100 * CDF(x)\n",
    "\n",
    "`Percentile(p)` -- Given a percentile rank, computes the corresponding value, x, Equivalent to Value(p/100)"
   ]
  },
  {
   "cell_type": "code",
   "execution_count": 9,
   "metadata": {
    "collapsed": false
   },
   "outputs": [
    {
     "data": {
      "image/png": "[encoded data removed]",
      "text/plain": [
       "<matplotlib.figure.Figure at 0x111ebb490>"
      ]
     },
     "metadata": {},
     "output_type": "display_data"
    },
    {
     "data": {
      "text/plain": [
       "<matplotlib.figure.Figure at 0x101b8dfd0>"
      ]
     },
     "metadata": {},
     "output_type": "display_data"
    }
   ],
   "source": [
    "live, firsts, others = first.MakeFrames()\n",
    "cdf = thinkstats2.Cdf(live.prglngth, label='prglngth')\n",
    "\n",
    "thinkplot.Cdf(cdf)\n",
    "thinkplot.Show(xlabel='weeks', ylabel='CDF')"
   ]
  },
  {
   "cell_type": "markdown",
   "metadata": {},
   "source": [
    "given this plot, we can infer that about 10% of pregnancies are shorter than 36 weeks.  About 90% are shorter than 41 weeks.\n",
    "\n",
    "CDFs are particularly useful for comparing distributions"
   ]
  },
  {
   "cell_type": "code",
   "execution_count": 10,
   "metadata": {
    "collapsed": false
   },
   "outputs": [
    {
     "data": {
      "image/png": "[encoded data removed]",
      "text/plain": [
       "<matplotlib.figure.Figure at 0x10a9957d0>"
      ]
     },
     "metadata": {},
     "output_type": "display_data"
    },
    {
     "data": {
      "text/plain": [
       "<matplotlib.figure.Figure at 0x10a995110>"
      ]
     },
     "metadata": {},
     "output_type": "display_data"
    }
   ],
   "source": [
    "first_cdf = thinkstats2.Cdf(firsts.totalwgt_lb, label=\"first\")\n",
    "other_cdf = thinkstats2.Cdf(others.totalwgt_lb, label='other')\n",
    "\n",
    "thinkplot.PrePlot(2)\n",
    "thinkplot.Cdfs([first_cdf, other_cdf])\n",
    "thinkplot.Show(xlabel='weight (pounds)', ylabel='CDF')"
   ]
  },
  {
   "cell_type": "markdown",
   "metadata": {},
   "source": [
    "**median** - 50th percentile, the value that divides the distribution in half.\n",
    "\n",
    "**interquartile range (IQR)** -- measure of spread of a distribution, difference between 75th and 25th percentiles.\n",
    "\n",
    "**quantile** -- divisions of a CDF into equally spaced points.\n",
    "\n",
    "###Random Numbers:"
   ]
  },
  {
   "cell_type": "code",
   "execution_count": 13,
   "metadata": {
    "collapsed": false
   },
   "outputs": [
    {
     "name": "stderr",
     "output_type": "stream",
     "text": [
      "/Users/davidgoldberg/anaconda/lib/python2.7/site-packages/matplotlib/axes/_axes.py:475: UserWarning: No labelled objects found. Use label='...' kwarg on individual plots.\n",
      "  warnings.warn(\"No labelled objects found. \"\n"
     ]
    },
    {
     "data": {
      "image/png": "[encoded data removed]",
      "text/plain": [
       "<matplotlib.figure.Figure at 0x103e29150>"
      ]
     },
     "metadata": {},
     "output_type": "display_data"
    },
    {
     "data": {
      "text/plain": [
       "<matplotlib.figure.Figure at 0x118259050>"
      ]
     },
     "metadata": {},
     "output_type": "display_data"
    }
   ],
   "source": [
    "weights = live.totalwgt_lb\n",
    "cdf = thinkstats2.Cdf(weights, label='totalwgt_lb')\n",
    "\n",
    "sample = np.random.choice(weights, 100, replace=True)\n",
    "ranks = [cdf.PercentileRank(x) for x in sample]\n",
    "\n",
    "rank_cdf = thinkstats2.Cdf(ranks)\n",
    "thinkplot.Cdf(rank_cdf)\n",
    "thinkplot.Show(xlabel='percentile rank', ylabel='CDF')"
   ]
  },
  {
   "cell_type": "markdown",
   "metadata": {},
   "source": [
    "Note that the CDF is a straight line, which means that the distribution is uniform.\n",
    "\n",
    "*Aside:* What did we do here?  We made a cumulative distribution of the percentile ranks of a random sample from a population.  This is a straight line because the values closer to the mean/median/mode account for a wider range of percentage values than the extremes.\n",
    "\n",
    "**Algorithm for Generating random numbers within a given CDF** -- \n",
    "1  Choose a percentile rank uniformly from range(0-100)\n",
    "2  Use Cdf.Percentile to find the value in the distribution that correponds to the percentile rank you chose.\n",
    "\n",
    "`Cdf.Random` returns the percentile value for a randomly chosen percentile rank.\n",
    "\n",
    "`Cdf.Sample` takes an integer n and returns a list of n values chosen at random from the Cdf.\n",
    "\n",
    "###Comparing percentile Ranks\n",
    "\n",
    "If I am in 90th percentile for my age group now.  How fast can I expect to run in 10 years.  The answer is to find the percentile value corresponding to my percentile rank in the distribution of runners 10 years older."
   ]
  },
  {
   "cell_type": "code",
   "execution_count": 14,
   "metadata": {
    "collapsed": true
   },
   "outputs": [],
   "source": [
    "def PositionToPercentile(position, field_size):\n",
    "    #beat or tied...\n",
    "    beat = field_size - position + 1\n",
    "    percentile = 100.0 * beat / field_size\n",
    "    return percentile\n",
    "\n",
    "def PercentileToPosition(percentile, field_size):\n",
    "    beat = percentile * field_size / 100.0\n",
    "    position = field_size - beat + 1\n",
    "    return position"
   ]
  },
  {
   "cell_type": "code",
   "execution_count": null,
   "metadata": {
    "collapsed": true
   },
   "outputs": [],
   "source": []
  }
 ],
 "metadata": {
  "kernelspec": {
   "display_name": "Python 2",
   "language": "python",
   "name": "python2"
  },
  "language_info": {
   "codemirror_mode": {
    "name": "ipython",
    "version": 2
   },
   "file_extension": ".py",
   "mimetype": "text/x-python",
   "name": "python",
   "nbconvert_exporter": "python",
   "pygments_lexer": "ipython2",
   "version": "2.7.10"
  }
 },
 "nbformat": 4,
 "nbformat_minor": 0
}
