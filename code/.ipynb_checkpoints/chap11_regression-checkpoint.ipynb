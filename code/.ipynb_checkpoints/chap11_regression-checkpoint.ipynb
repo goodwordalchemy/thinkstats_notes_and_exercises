{
 "cells": [
  {
   "cell_type": "code",
   "execution_count": 6,
   "metadata": {
    "collapsed": true
   },
   "outputs": [],
   "source": [
    "import first, regression\n",
    "import thinkstats2, thinkplot\n",
    "import numpy as np\n",
    "import statsmodels.formula.api as smf\n"
   ]
  },
  {
   "cell_type": "markdown",
   "metadata": {},
   "source": [
    "**regression** - fitting a model to data.  The goal is to describe the relationship between the *dependent variables* and the *explanatory variables*.\n",
    "\n",
    "**multiple regression** multiple explanatory variables.\n",
    "\n",
    "**linear regression** wen the relationship is linear.\n",
    "$$\n",
    "y = \\beta_0 + \\beta_1x_1 + \\beta_2x_2 + \\epsilon\n",
    "$$\n",
    "where $\\beta_0$ is the intercept, $\\beta_1$ is the parameter association with $x_1$, $\\beta_2$ is the parameter associated with $x_2$ and $\\epsilon$ is the residual due to random variation or unknown factors.\n",
    "\n",
    "**ordinary least squares**.  Given a sequence of values for y and sequences for $x_1$ and $x_2$, we can find the beta parameters that minimize $epsilon^2$"
   ]
  },
  {
   "cell_type": "code",
   "execution_count": 7,
   "metadata": {
    "collapsed": false
   },
   "outputs": [
    {
     "name": "stdout",
     "output_type": "stream",
     "text": [
      "Intercept   6.83   (0)\n",
      "agepreg   0.0175   (5.72e-11)\n",
      "R^2 0.004738\n",
      "Std(ys) 1.408\n",
      "Std(res) 1.405\n"
     ]
    }
   ],
   "source": [
    "live, firsts, others = first.MakeFrames()\n",
    "formula = 'totalwgt_lb ~ agepreg'\n",
    "model = smf.ols(formula, data=live)\n",
    "results = model.fit()\n",
    "regression.SummarizeResults(results)"
   ]
  },
  {
   "cell_type": "code",
   "execution_count": 9,
   "metadata": {
    "collapsed": false
   },
   "outputs": [
    {
     "data": {
      "text/plain": [
       "0.0047381154747098142"
      ]
     },
     "execution_count": 9,
     "metadata": {},
     "output_type": "execute_result"
    }
   ],
   "source": [
    "##Results are also available as parameters:\n",
    "inter = results.params['Intercept']\n",
    "slope = results.params['agepreg']\n",
    "slope_pvalue = results.pvalues['agepreg']\n",
    "results.rsquared"
   ]
  },
  {
   "cell_type": "code",
   "execution_count": 11,
   "metadata": {
    "collapsed": false
   },
   "outputs": [
    {
     "data": {
      "text/plain": [
       "5.7229471072677547e-11"
      ]
     },
     "execution_count": 11,
     "metadata": {},
     "output_type": "execute_result"
    }
   ],
   "source": [
    "##this gives the p-value associated with the model as a whole\n",
    "results.f_pvalue"
   ]
  },
  {
   "cell_type": "code",
   "execution_count": 13,
   "metadata": {
    "collapsed": false
   },
   "outputs": [
    {
     "name": "stdout",
     "output_type": "stream",
     "text": [
      "Intercept   6.83   (0)\n",
      "agepreg   0.0175   (5.72e-11)\n",
      "R^2 0.004738\n",
      "Std(ys) 1.408\n",
      "Std(res) 1.405\n"
     ]
    }
   ],
   "source": [
    "residuals = results.resid\n",
    "\n",
    "##this returns a sequence of values corresponding\n",
    "##to agepreg.\n",
    "fitted_values = results.fittedvalues\n",
    "\n",
    "# results.summary() provides a lot of info\n",
    "#the following is easier:\n",
    "regression.SummarizeResults(results)"
   ]
  },
  {
   "cell_type": "markdown",
   "metadata": {},
   "source": [
    "**spurious** - result for which there is no obvious mechanism that would explain it. e.g. why would first babies be lighter than others?  Perhaps because mothers of first babies are younger..."
   ]
  },
  {
   "cell_type": "code",
   "execution_count": 14,
   "metadata": {
    "collapsed": false
   },
   "outputs": [
    {
     "data": {
      "text/plain": [
       "-0.12476118453549034"
      ]
     },
     "execution_count": 14,
     "metadata": {},
     "output_type": "execute_result"
    }
   ],
   "source": [
    "diff_weight = firsts.totalwgt_lb.mean() - others.totalwgt_lb.mean()\n",
    "diff_weight"
   ]
  },
  {
   "cell_type": "code",
   "execution_count": 17,
   "metadata": {
    "collapsed": false
   },
   "outputs": [
    {
     "data": {
      "text/plain": [
       "-3.586434766150152"
      ]
     },
     "execution_count": 17,
     "metadata": {},
     "output_type": "execute_result"
    }
   ],
   "source": [
    "diff_age = firsts.agepreg.mean() - others.agepreg.mean()\n",
    "diff_age"
   ]
  },
  {
   "cell_type": "raw",
   "metadata": {},
   "source": []
  }
 ],
 "metadata": {
  "kernelspec": {
   "display_name": "Python 2",
   "language": "python",
   "name": "python2"
  },
  "language_info": {
   "codemirror_mode": {
    "name": "ipython",
    "version": 2
   },
   "file_extension": ".py",
   "mimetype": "text/x-python",
   "name": "python",
   "nbconvert_exporter": "python",
   "pygments_lexer": "ipython2",
   "version": "2.7.10"
  }
 },
 "nbformat": 4,
 "nbformat_minor": 0
}
